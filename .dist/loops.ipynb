{
 "cells": [
  {
   "cell_type": "code",
   "execution_count": 28,
   "metadata": {},
   "outputs": [
    {
     "name": "stdout",
     "output_type": "stream",
     "text": [
      "apple\n",
      "banana\n",
      "cherry\n",
      "orange\n",
      "mango\n",
      "kiwi\n"
     ]
    }
   ],
   "source": [
    "fruite=['apple','banana', \"cherry\", 'orange','mango','kiwi',]\n",
    "for fruite in fruite:\n",
    "    print(fruite)"
   ]
  },
  {
   "cell_type": "code",
   "execution_count": 37,
   "metadata": {},
   "outputs": [
    {
     "name": "stdout",
     "output_type": "stream",
     "text": [
      "0 ['apple', 'banana', 'cherry', 'orange', 'mango', 'kiwi']\n",
      "1 ['apple', 'banana', 'cherry', 'orange', 'mango', 'kiwi']\n",
      "2 ['apple', 'banana', 'cherry', 'orange', 'mango', 'kiwi']\n",
      "3 ['apple', 'banana', 'cherry', 'orange', 'mango', 'kiwi']\n",
      "4 ['apple', 'banana', 'cherry', 'orange', 'mango', 'kiwi']\n",
      "5 ['apple', 'banana', 'cherry', 'orange', 'mango', 'kiwi']\n"
     ]
    }
   ],
   "source": [
    "# without using  enumerate\n",
    "things=['apple','banana', \"cherry\", 'orange','mango','kiwi',]\n",
    "count =0\n",
    "for fruite  in things:\n",
    "    print(count,things)\n",
    "    count += 1"
   ]
  },
  {
   "cell_type": "code",
   "execution_count": 33,
   "metadata": {},
   "outputs": [
    {
     "name": "stdout",
     "output_type": "stream",
     "text": [
      "(0, 'apple')\n",
      "(1, 'banana')\n",
      "(2, 'cherry')\n",
      "(3, 'orange')\n",
      "(4, 'mango')\n",
      "(5, 'kiwi')\n"
     ]
    }
   ],
   "source": [
    " # enumerate\n",
    "things=['apple','banana', \"cherry\", 'orange','mango','kiwi',]\n",
    "for item in enumerate(things):\n",
    "    print(item)"
   ]
  },
  {
   "cell_type": "code",
   "execution_count": null,
   "metadata": {},
   "outputs": [],
   "source": [
    "#enumerate\n"
   ]
  }
 ],
 "metadata": {
  "kernelspec": {
   "display_name": "base",
   "language": "python",
   "name": "python3"
  },
  "language_info": {
   "codemirror_mode": {
    "name": "ipython",
    "version": 3
   },
   "file_extension": ".py",
   "mimetype": "text/x-python",
   "name": "python",
   "nbconvert_exporter": "python",
   "pygments_lexer": "ipython3",
   "version": "3.10.10"
  },
  "orig_nbformat": 4
 },
 "nbformat": 4,
 "nbformat_minor": 2
}
