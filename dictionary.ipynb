{
 "cells": [
  {
   "cell_type": "code",
   "execution_count": 14,
   "metadata": {},
   "outputs": [
    {
     "data": {
      "text/plain": [
       "'order data structure\\n-mutable\\n- key value pair\\n- key are immutable, and unique\\n-value can be muteable or immutable and can be duplicate and have any type unindexwd\\n-represented by{}\\n-unindexed dict{ }that can take key value pair as argument\\n-\\n'"
      ]
     },
     "execution_count": 14,
     "metadata": {},
     "output_type": "execute_result"
    }
   ],
   "source": [
    "#dictionary\n",
    "'''order data structure\n",
    "-mutable\n",
    "- key value pair\n",
    "- key are immutable, and unique\n",
    "-value can be muteable or immutable and can be duplicate and have any type unindexwd\n",
    "-represented by{}\n",
    "-unindexed dict{ }that can take key value pair as argument\n",
    "-\n",
    "'''"
   ]
  },
  {
   "cell_type": "code",
   "execution_count": 15,
   "metadata": {},
   "outputs": [],
   "source": [
    "from pprint import pp "
   ]
  },
  {
   "cell_type": "code",
   "execution_count": 16,
   "metadata": {},
   "outputs": [],
   "source": [
    "#creating\n",
    "\n",
    "fruits ={\n",
    "    \"apple\": 2,\n",
    "    \"banana\": 3,\n",
    "    \"orange\": 4,\n",
    "}"
   ]
  },
  {
   "cell_type": "code",
   "execution_count": 17,
   "metadata": {},
   "outputs": [],
   "source": [
    "grocery ={\n",
    "'fruits': ['apple','banana', 'pineapple'],\n",
    "'vegetable':['carrort', 'lettuce','oinon'],\n",
    "'dairy':['milk','cheese','yogur']\n",
    "\n",
    "}\n"
   ]
  },
  {
   "cell_type": "code",
   "execution_count": 25,
   "metadata": {},
   "outputs": [],
   "source": [
    "reports={\n",
    "    \"suresh\":{\n",
    "        'english':90,\n",
    "        'math':80\n",
    "    },\n",
    "    \"rajesh\":{\n",
    "        'english':90,\n",
    "        'math':80\n",
    "    },\n",
    "}"
   ]
  },
  {
   "cell_type": "code",
   "execution_count": 18,
   "metadata": {},
   "outputs": [
    {
     "name": "stdout",
     "output_type": "stream",
     "text": [
      "{'apple': 2, 'banana': 3, 'orange': 4}\n",
      "{'fruits': ['apple', 'banana', 'pineapple'],\n",
      " 'vegetable': ['carrort', 'lettuce', 'oinon'],\n",
      " 'dairy': ['milk', 'cheese', 'yogur']}\n"
     ]
    }
   ],
   "source": [
    "pp(fruits)\n",
    "pp(grocery)\n"
   ]
  },
  {
   "cell_type": "code",
   "execution_count": 19,
   "metadata": {},
   "outputs": [
    {
     "data": {
      "text/plain": [
       "'updateing\\nadding\\ndeleeting\\nfetch\\n'"
      ]
     },
     "execution_count": 19,
     "metadata": {},
     "output_type": "execute_result"
    }
   ],
   "source": [
    "'''updateing\n",
    "adding\n",
    "deleeting\n",
    " fetch\n",
    "'''"
   ]
  },
  {
   "cell_type": "code",
   "execution_count": 20,
   "metadata": {},
   "outputs": [
    {
     "data": {
      "text/plain": [
       "2"
      ]
     },
     "execution_count": 20,
     "metadata": {},
     "output_type": "execute_result"
    }
   ],
   "source": [
    "\n",
    "fruits['apple'] # retrive vale from dictionary"
   ]
  },
  {
   "cell_type": "code",
   "execution_count": 21,
   "metadata": {},
   "outputs": [],
   "source": [
    "#updateing\n",
    "fruits['apple']=10 "
   ]
  },
  {
   "cell_type": "code",
   "execution_count": 22,
   "metadata": {},
   "outputs": [
    {
     "name": "stdout",
     "output_type": "stream",
     "text": [
      "{'apple': 10, 'banana': 3, 'orange': 4, 'mango': 25}\n"
     ]
    }
   ],
   "source": [
    "fruits['mango']=25\n",
    "pp(fruits)"
   ]
  },
  {
   "cell_type": "code",
   "execution_count": 23,
   "metadata": {},
   "outputs": [],
   "source": [
    "grocery['spices']=['cumin','coriander','turmeric'] # add new key value pair in dictionory"
   ]
  },
  {
   "cell_type": "code",
   "execution_count": 24,
   "metadata": {},
   "outputs": [
    {
     "name": "stdout",
     "output_type": "stream",
     "text": [
      "{'fruits': ['apple', 'banana', 'pineapple', 'mango'],\n",
      " 'vegetable': ['carrort', 'lettuce', 'oinon'],\n",
      " 'dairy': ['milk', 'cheese', 'yogur'],\n",
      " 'spices': ['cumin', 'coriander', 'turmeric']}\n"
     ]
    }
   ],
   "source": [
    "grocery['fruits'].append('mango')#add new value in list\n",
    "pp(grocery)"
   ]
  },
  {
   "cell_type": "code",
   "execution_count": 26,
   "metadata": {},
   "outputs": [],
   "source": [
    "reports['suresh']['evs']=99"
   ]
  },
  {
   "cell_type": "code",
   "execution_count": 27,
   "metadata": {},
   "outputs": [
    {
     "name": "stdout",
     "output_type": "stream",
     "text": [
      "{'suresh': {'english': 90, 'math': 80, 'evs': 99}, 'rajesh': {'english': 90, 'math': 80}}\n"
     ]
    }
   ],
   "source": [
    "print(reports)"
   ]
  },
  {
   "cell_type": "code",
   "execution_count": 28,
   "metadata": {},
   "outputs": [
    {
     "data": {
      "text/plain": [
       "3"
      ]
     },
     "execution_count": 28,
     "metadata": {},
     "output_type": "execute_result"
    }
   ],
   "source": [
    "fruits.pop('banana')# removde key - value pair from dict"
   ]
  },
  {
   "cell_type": "code",
   "execution_count": 29,
   "metadata": {},
   "outputs": [
    {
     "data": {
      "text/plain": [
       "{'english': 90, 'math': 80}"
      ]
     },
     "execution_count": 29,
     "metadata": {},
     "output_type": "execute_result"
    }
   ],
   "source": [
    "reports.pop('rajesh')"
   ]
  },
  {
   "cell_type": "code",
   "execution_count": 30,
   "metadata": {},
   "outputs": [
    {
     "data": {
      "text/plain": [
       "{'suresh': {'english': 90, 'math': 80, 'evs': 99}}"
      ]
     },
     "execution_count": 30,
     "metadata": {},
     "output_type": "execute_result"
    }
   ],
   "source": [
    "reports"
   ]
  },
  {
   "cell_type": "code",
   "execution_count": 31,
   "metadata": {},
   "outputs": [
    {
     "name": "stdout",
     "output_type": "stream",
     "text": [
      "{'fruits': ['apple', 'banana', 'pineapple', 'mango'],\n",
      " 'vegetable': ['carrort', 'lettuce', 'oinon'],\n",
      " 'dairy': ['milk', 'cheese', 'yogur'],\n",
      " 'spices': ['cumin', 'coriander', 'turmeric']}\n"
     ]
    }
   ],
   "source": [
    "pp(grocery)"
   ]
  },
  {
   "cell_type": "code",
   "execution_count": 35,
   "metadata": {},
   "outputs": [],
   "source": [
    "grocery['vegetable'].remove('carrort')# remove"
   ]
  },
  {
   "cell_type": "code",
   "execution_count": 36,
   "metadata": {},
   "outputs": [
    {
     "data": {
      "text/plain": [
       "dict_keys(['apple', 'orange', 'mango'])"
      ]
     },
     "execution_count": 36,
     "metadata": {},
     "output_type": "execute_result"
    }
   ],
   "source": [
    "fruits.keys()# get all values from dict"
   ]
  },
  {
   "cell_type": "code",
   "execution_count": 37,
   "metadata": {},
   "outputs": [
    {
     "data": {
      "text/plain": [
       "dict_values([10, 4, 25])"
      ]
     },
     "execution_count": 37,
     "metadata": {},
     "output_type": "execute_result"
    }
   ],
   "source": [
    "fruits.values()# get all "
   ]
  },
  {
   "cell_type": "code",
   "execution_count": 40,
   "metadata": {},
   "outputs": [
    {
     "data": {
      "text/plain": [
       "dict_items([('apple', 10), ('orange', 4), ('mango', 25)])"
      ]
     },
     "execution_count": 40,
     "metadata": {},
     "output_type": "execute_result"
    }
   ],
   "source": [
    "fruits.items()"
   ]
  },
  {
   "cell_type": "code",
   "execution_count": 41,
   "metadata": {},
   "outputs": [
    {
     "name": "stdout",
     "output_type": "stream",
     "text": [
      "apple 10\n",
      "orange 4\n",
      "mango 25\n"
     ]
    }
   ],
   "source": [
    "for k,v in  fruits.items():\n",
    "    print(k,v)"
   ]
  },
  {
   "cell_type": "code",
   "execution_count": 42,
   "metadata": {},
   "outputs": [
    {
     "data": {
      "text/plain": [
       "90"
      ]
     },
     "execution_count": 42,
     "metadata": {},
     "output_type": "execute_result"
    }
   ],
   "source": [
    "reports['suresh']['english']"
   ]
  },
  {
   "cell_type": "code",
   "execution_count": 43,
   "metadata": {},
   "outputs": [
    {
     "data": {
      "text/plain": [
       "{'english': 90, 'math': 80, 'evs': 99}"
      ]
     },
     "execution_count": 43,
     "metadata": {},
     "output_type": "execute_result"
    }
   ],
   "source": [
    "reports.get('suresh')"
   ]
  },
  {
   "cell_type": "code",
   "execution_count": 44,
   "metadata": {},
   "outputs": [],
   "source": [
    "reports.get('ramesh')"
   ]
  },
  {
   "cell_type": "code",
   "execution_count": null,
   "metadata": {},
   "outputs": [],
   "source": [
    "reports.get('ramesh','ye student  kabhi aya hi hi nhi')"
   ]
  },
  {
   "cell_type": "code",
   "execution_count": 46,
   "metadata": {},
   "outputs": [
    {
     "data": {
      "text/plain": [
       "{'english': 90, 'math': 80, 'evs': 99}"
      ]
     },
     "execution_count": 46,
     "metadata": {},
     "output_type": "execute_result"
    }
   ],
   "source": [
    "reports.get('suresh','ye student  kabhi aya hi hi nhi')"
   ]
  },
  {
   "cell_type": "code",
   "execution_count": 15,
   "metadata": {},
   "outputs": [
    {
     "ename": "NameError",
     "evalue": "name 'reports' is not defined",
     "output_type": "error",
     "traceback": [
      "\u001b[1;31m---------------------------------------------------------------------------\u001b[0m",
      "\u001b[1;31mNameError\u001b[0m                                 Traceback (most recent call last)",
      "Cell \u001b[1;32mIn[15], line 1\u001b[0m\n\u001b[1;32m----> 1\u001b[0m reports[\u001b[39m'\u001b[39m\u001b[39mSuresh\u001b[39m\u001b[39m'\u001b[39m]\u001b[39m=\u001b[39m{\n\u001b[0;32m      2\u001b[0m     \u001b[39m'\u001b[39m\u001b[39menglish\u001b[39m\u001b[39m'\u001b[39m:\u001b[39m90\u001b[39m,\n\u001b[0;32m      3\u001b[0m     \u001b[39m'\u001b[39m\u001b[39mmath\u001b[39m\u001b[39m'\u001b[39m:\u001b[39m99\u001b[39m,\n\u001b[0;32m      4\u001b[0m     \u001b[39m'\u001b[39m\u001b[39mscience\u001b[39m\u001b[39m'\u001b[39m:\u001b[39m88\u001b[39m\n\u001b[0;32m      5\u001b[0m }\n\u001b[0;32m      6\u001b[0m pp(reports)\n",
      "\u001b[1;31mNameError\u001b[0m: name 'reports' is not defined"
     ]
    }
   ],
   "source": [
    "reports['Suresh']={\n",
    "    'english':90,\n",
    "    'math':99,\n",
    "    'science':88\n",
    "}\n",
    "pp(reports)"
   ]
  },
  {
   "cell_type": "code",
   "execution_count": 16,
   "metadata": {},
   "outputs": [
    {
     "ename": "NameError",
     "evalue": "name 'reports' is not defined",
     "output_type": "error",
     "traceback": [
      "\u001b[1;31m---------------------------------------------------------------------------\u001b[0m",
      "\u001b[1;31mNameError\u001b[0m                                 Traceback (most recent call last)",
      "Cell \u001b[1;32mIn[16], line 1\u001b[0m\n\u001b[1;32m----> 1\u001b[0m \u001b[39mfor\u001b[39;00m student, details \u001b[39min\u001b[39;00m reports\u001b[39m.\u001b[39mitems():\n\u001b[0;32m      2\u001b[0m     \u001b[39mprint\u001b[39m(student)\n\u001b[0;32m      3\u001b[0m     \u001b[39mfor\u001b[39;00m subject, marks \u001b[39min\u001b[39;00m details\u001b[39m.\u001b[39mitems():\n",
      "\u001b[1;31mNameError\u001b[0m: name 'reports' is not defined"
     ]
    }
   ],
   "source": [
    "for student, details in reports.items():\n",
    "    print(student)\n",
    "    for subject, marks in details.items():\n",
    "        print(f'{marks} in {subject}')\n",
    "    print('...'*8)"
   ]
  },
  {
   "cell_type": "code",
   "execution_count": null,
   "metadata": {},
   "outputs": [],
   "source": [
    "\n",
    "'''create a dictionary of 5 employee with details\n",
    "- name : str\n",
    "- department : str\n",
    "- salary : int\n",
    "- skills : list\n",
    "- projects :dict\n",
    "    - project_name : str\n",
    "    - project_duration : int\n",
    "    - project_technologies : list  '''"
   ]
  },
  {
   "cell_type": "code",
   "execution_count": 55,
   "metadata": {},
   "outputs": [],
   "source": [
    "emps = {\n",
    "    'e1 ':{\n",
    "        'name' : 'Nishtha',\n",
    "        'department' : 'hr',\n",
    "        'salary' : 100000,\n",
    "        \"skill\":['communication','management'],\n",
    "        'project':{\n",
    "            'projcet' :{\n",
    "                'projcet_name': 'HRMS',\n",
    "                'projcet_duration':6,\n",
    "                'projcet_technology':['excel','power bi','powerpoint']\n",
    "            },\n",
    "        },\n",
    "        \"e2 \": {\n",
    "          'name' : 'deep',\n",
    "          'department' : 'hr',\n",
    "          'salary' : 100000,\n",
    "           \"skill\":['communication','management'],\n",
    "           'project':{\n",
    "           'projcet' :{\n",
    "                'projcet_name': 'HRMS',\n",
    "                'projcet_duration':6,\n",
    "                'projcet_technology':['excel','power bi','powerpoint']\n",
    "        \n",
    "        },\n",
    "\n",
    "    },\n",
    "    \n",
    "        }\n",
    "    },\n",
    "        'e3': {\n",
    "             'name' : 'deep',\n",
    "          'department' : 'hr',\n",
    "          'salary' : 140000,\n",
    "           \"skill\":['communication','management'],\n",
    "           'project':{\n",
    "           'projcet' :{\n",
    "                'projcet_name': 'HRMS',\n",
    "                'projcet_duration':6,\n",
    "                'projcet_technology':['excel','power bi','powerpoint']\n",
    "        \n",
    "\n",
    "    },\n",
    "\n",
    "},\n",
    "        },\n",
    "        'e4' :{\n",
    "             'name' : 'dolly',\n",
    "          'department' : 'hr',\n",
    "          'salary' : 120000,\n",
    "           \"skill\":['communication','management'],\n",
    "           'project':{\n",
    "           'projcet' :{\n",
    "                'projcet_name': 'HRMS',\n",
    "                'projcet_duration':6,\n",
    "                'projcet_technology':['excel','power bi','powerpoint']\n",
    "        \n",
    "\n",
    "        },\n",
    "           },\n",
    "        },\n",
    "}\n",
    "\n"
   ]
  }
 ],
 "metadata": {
  "kernelspec": {
   "display_name": "base",
   "language": "python",
   "name": "python3"
  },
  "language_info": {
   "codemirror_mode": {
    "name": "ipython",
    "version": 3
   },
   "file_extension": ".py",
   "mimetype": "text/x-python",
   "name": "python",
   "nbconvert_exporter": "python",
   "pygments_lexer": "ipython3",
   "version": "3.10.10"
  },
  "orig_nbformat": 4
 },
 "nbformat": 4,
 "nbformat_minor": 2
}
