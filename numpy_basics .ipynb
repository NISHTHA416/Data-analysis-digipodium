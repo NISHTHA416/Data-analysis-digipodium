{
 "cells": [
  {
   "cell_type": "code",
   "execution_count": 2,
   "metadata": {},
   "outputs": [],
   "source": [
    "import numpy as np                                     \n"
   ]
  },
  {
   "cell_type": "code",
   "execution_count": 3,
   "metadata": {},
   "outputs": [
    {
     "name": "stdout",
     "output_type": "stream",
     "text": [
      "[1 2 3]\n",
      "(3,)\n",
      "[[1 2 3]\n",
      " [4 5 6]]\n",
      "(2, 3)\n"
     ]
    }
   ],
   "source": [
    "                                     \n",
    "a = np.array([1,2,3])\n",
    "print(a)\n",
    "print(a.shape)\n",
    "b = np.array([\n",
    "    [1,2,3],\n",
    "     [4,5,6]\n",
    "     ])\n",
    "print(b)\n",
    "print(b.shape)"
   ]
  },
  {
   "cell_type": "code",
   "execution_count": 4,
   "metadata": {},
   "outputs": [
    {
     "name": "stdout",
     "output_type": "stream",
     "text": [
      "[1.  1.2 1.4 1.6 1.8 2.  2.2 2.4 2.6 2.8 3.  3.2 3.4 3.6 3.8 4.  4.2 4.4\n",
      " 4.6 4.8 5.  5.2 5.4 5.6 5.8 6.  6.2 6.4 6.6 6.8 7.  7.2 7.4 7.6 7.8 8.\n",
      " 8.2 8.4 8.6 8.8 9.  9.2 9.4 9.6 9.8]\n",
      "(45,)\n",
      "[ 1.          1.47368421  1.94736842  2.42105263  2.89473684  3.36842105\n",
      "  3.84210526  4.31578947  4.78947368  5.26315789  5.73684211  6.21052632\n",
      "  6.68421053  7.15789474  7.63157895  8.10526316  8.57894737  9.05263158\n",
      "  9.52631579 10.        ]\n"
     ]
    }
   ],
   "source": [
    "c = np.arange(1,10,.2) \n",
    "print(c)\n",
    "print(c.shape)\n",
    "d = np.linspace(1,10,20)\n",
    "print(d)"
   ]
  },
  {
   "cell_type": "code",
   "execution_count": 5,
   "metadata": {},
   "outputs": [
    {
     "name": "stdout",
     "output_type": "stream",
     "text": [
      "1\n"
     ]
    }
   ],
   "source": [
    "print(c.ndim)"
   ]
  },
  {
   "cell_type": "code",
   "execution_count": 6,
   "metadata": {},
   "outputs": [
    {
     "name": "stdout",
     "output_type": "stream",
     "text": [
      "[[[1.  1.2 1.4 1.6 1.8]\n",
      "  [2.  2.2 2.4 2.6 2.8]\n",
      "  [3.  3.2 3.4 3.6 3.8]]\n",
      "\n",
      " [[4.  4.2 4.4 4.6 4.8]\n",
      "  [5.  5.2 5.4 5.6 5.8]\n",
      "  [6.  6.2 6.4 6.6 6.8]]\n",
      "\n",
      " [[7.  7.2 7.4 7.6 7.8]\n",
      "  [8.  8.2 8.4 8.6 8.8]\n",
      "  [9.  9.2 9.4 9.6 9.8]]]\n"
     ]
    }
   ],
   "source": [
    "print(c.reshape(3,3,5))"
   ]
  },
  {
   "cell_type": "code",
   "execution_count": 7,
   "metadata": {},
   "outputs": [
    {
     "data": {
      "text/plain": [
       "array([[[-65,  94, -85],\n",
       "        [ 20,  -4, -36],\n",
       "        [ 64,  10,  18],\n",
       "        [  6, -49, -99],\n",
       "        [-73, -35,  70]],\n",
       "\n",
       "       [[-76, -67,  36],\n",
       "        [-57,  92, -67],\n",
       "        [ 70, -47, -32],\n",
       "        [-50, -58,  62],\n",
       "        [ 66, -35, -54]],\n",
       "\n",
       "       [[-27, -98, -24],\n",
       "        [-92, -88, -42],\n",
       "        [ 58,  92,  16],\n",
       "        [ 59, -77, -46],\n",
       "        [ 40,  55,  56]]])"
      ]
     },
     "execution_count": 7,
     "metadata": {},
     "output_type": "execute_result"
    }
   ],
   "source": [
    "np.random.randint(-99,99,(3,5,3))#tupple used to be passed in round brackets"
   ]
  },
  {
   "cell_type": "code",
   "execution_count": 8,
   "metadata": {},
   "outputs": [],
   "source": [
    "#maths in numpy\n",
    "x = np.array([\n",
    "    [2,3,4],\n",
    "    [4,5,6]\n",
    "])\n",
    "y = np.array([\n",
    "    [2,3,5],\n",
    "    [4,6,6]\n",
    "])"
   ]
  },
  {
   "cell_type": "code",
   "execution_count": 9,
   "metadata": {},
   "outputs": [
    {
     "name": "stdout",
     "output_type": "stream",
     "text": [
      "[[ 4  6  9]\n",
      " [ 8 11 12]]\n"
     ]
    }
   ],
   "source": [
    "print(x+y)"
   ]
  },
  {
   "cell_type": "code",
   "execution_count": 12,
   "metadata": {},
   "outputs": [
    {
     "name": "stdout",
     "output_type": "stream",
     "text": [
      "[[ 0  0 -1]\n",
      " [ 0 -1  0]]\n"
     ]
    }
   ],
   "source": [
    "print(x-y)\n"
   ]
  },
  {
   "cell_type": "code",
   "execution_count": 11,
   "metadata": {},
   "outputs": [
    {
     "name": "stdout",
     "output_type": "stream",
     "text": [
      "[[ 4  9 20]\n",
      " [16 30 36]]\n"
     ]
    }
   ],
   "source": [
    "\n",
    "print(x*y) #scalar multiplication\n"
   ]
  },
  {
   "cell_type": "code",
   "execution_count": 10,
   "metadata": {},
   "outputs": [
    {
     "name": "stdout",
     "output_type": "stream",
     "text": [
      "[[    4    27  1024]\n",
      " [  256 15625 46656]]\n"
     ]
    }
   ],
   "source": [
    "\n",
    "print(x ** y) # scalar power"
   ]
  },
  {
   "cell_type": "code",
   "execution_count": 13,
   "metadata": {},
   "outputs": [
    {
     "name": "stdout",
     "output_type": "stream",
     "text": [
      "[[0 0 4]\n",
      " [0 5 0]]\n"
     ]
    }
   ],
   "source": [
    "print(x % y)#scalar modulus"
   ]
  },
  {
   "cell_type": "code",
   "execution_count": null,
   "metadata": {},
   "outputs": [],
   "source": [
    "\n",
    "print(x*3)\n",
    "print(x % 2)# scalar modulus\n",
    "\n"
   ]
  },
  {
   "cell_type": "code",
   "execution_count": 22,
   "metadata": {},
   "outputs": [
    {
     "name": "stdout",
     "output_type": "stream",
     "text": [
      "[[33 50]\n",
      " [53 82]]\n"
     ]
    }
   ],
   "source": [
    "\n",
    "print(x.dot(y.T))"
   ]
  },
  {
   "cell_type": "code",
   "execution_count": 14,
   "metadata": {},
   "outputs": [
    {
     "data": {
      "text/plain": [
       "array([[2, 4],\n",
       "       [3, 6],\n",
       "       [5, 6]])"
      ]
     },
     "execution_count": 14,
     "metadata": {},
     "output_type": "execute_result"
    }
   ],
   "source": [
    "y.T"
   ]
  },
  {
   "cell_type": "code",
   "execution_count": 15,
   "metadata": {},
   "outputs": [
    {
     "name": "stdout",
     "output_type": "stream",
     "text": [
      "[[33 50]\n",
      " [53 82]]\n",
      "[[33 50]\n",
      " [53 82]]\n",
      "[[33 50]\n",
      " [53 82]]\n"
     ]
    }
   ],
   "source": [
    "print(x.dot(y.T))\n",
    "print(np.matmul(x,y.T))\n",
    "print(x @ y.T)"
   ]
  },
  {
   "cell_type": "code",
   "execution_count": 16,
   "metadata": {},
   "outputs": [
    {
     "name": "stdout",
     "output_type": "stream",
     "text": [
      "24\n",
      "[ 6  8 10]\n",
      "[ 9 15]\n",
      "4.0\n",
      "1.2909944487358056\n",
      "6\n",
      "2\n",
      "5\n",
      "0\n"
     ]
    }
   ],
   "source": [
    "#statistical functions\n",
    "print(x.sum()) # sum of all elements\n",
    "print(x.sum(axis=0))# sum of columns\n",
    "print(x.sum(axis=1))# sum of rows\n",
    "print(x.mean())# mean of all elements\n",
    "print(x.std())# standard deviation of all elements\n",
    "print(x.max())# maximum of all elements\n",
    "print(x.min())# minimum of all elemnts\n",
    "print(x.argmax())#index of maximum elements\n",
    "print(x.argmin())#index of minimum elements"
   ]
  },
  {
   "cell_type": "code",
   "execution_count": 19,
   "metadata": {},
   "outputs": [
    {
     "name": "stdout",
     "output_type": "stream",
     "text": [
      "[[ 0.90929743  0.14112001 -0.7568025 ]\n",
      " [-0.7568025  -0.95892427 -0.2794155 ]]\n",
      "[[-0.41614684 -0.9899925  -0.65364362]\n",
      " [-0.65364362  0.28366219  0.96017029]]\n",
      "[[-2.18503986 -0.14254654  1.15782128]\n",
      " [ 1.15782128 -3.38051501 -0.29100619]]\n"
     ]
    }
   ],
   "source": [
    "print(np.sin(x))\n",
    "print(np.cos(x))\n",
    "print(np.tan(x))"
   ]
  },
  {
   "cell_type": "code",
   "execution_count": 21,
   "metadata": {},
   "outputs": [
    {
     "name": "stdout",
     "output_type": "stream",
     "text": [
      "[[ 0.90929743  0.14112001 -0.7568025 ]\n",
      " [-0.7568025  -0.95892427 -0.2794155 ]]\n",
      "[[-0.41614684 -0.9899925  -0.65364362]\n",
      " [-0.65364362  0.28366219  0.96017029]]\n",
      "[[-2.18503986 -0.14254654  1.15782128]\n",
      " [ 1.15782128 -3.38051501 -0.29100619]]\n",
      "[[nan nan nan]\n",
      " [nan nan nan]]\n"
     ]
    },
    {
     "name": "stderr",
     "output_type": "stream",
     "text": [
      "C:\\Users\\akash\\AppData\\Local\\Temp\\ipykernel_24808\\897877586.py:5: RuntimeWarning: invalid value encountered in arcsin\n",
      "  print(np.arcsin(x))#inverse sin\n"
     ]
    },
    {
     "ename": "AttributeError",
     "evalue": "module 'numpy' has no attribute 'arccon'",
     "output_type": "error",
     "traceback": [
      "\u001b[1;31m---------------------------------------------------------------------------\u001b[0m",
      "\u001b[1;31mAttributeError\u001b[0m                            Traceback (most recent call last)",
      "Cell \u001b[1;32mIn[21], line 6\u001b[0m\n\u001b[0;32m      4\u001b[0m \u001b[39mprint\u001b[39m(np\u001b[39m.\u001b[39mtan(x))\n\u001b[0;32m      5\u001b[0m \u001b[39mprint\u001b[39m(np\u001b[39m.\u001b[39marcsin(x))\u001b[39m#inverse sin\u001b[39;00m\n\u001b[1;32m----> 6\u001b[0m \u001b[39mprint\u001b[39m(np\u001b[39m.\u001b[39;49marccon(x))\u001b[39m#inverse sin\u001b[39;00m\n\u001b[0;32m      7\u001b[0m \u001b[39mprint\u001b[39m(np\u001b[39m.\u001b[39marctan(x))\n",
      "File \u001b[1;32mc:\\Users\\akash\\miniconda3\\lib\\site-packages\\numpy\\__init__.py:322\u001b[0m, in \u001b[0;36m__getattr__\u001b[1;34m(attr)\u001b[0m\n\u001b[0;32m    319\u001b[0m     \u001b[39m\"\u001b[39m\u001b[39mRemoved in NumPy 1.25.0\u001b[39m\u001b[39m\"\u001b[39m\n\u001b[0;32m    320\u001b[0m     \u001b[39mraise\u001b[39;00m \u001b[39mRuntimeError\u001b[39;00m(\u001b[39m\"\u001b[39m\u001b[39mTester was removed in NumPy 1.25.\u001b[39m\u001b[39m\"\u001b[39m)\n\u001b[1;32m--> 322\u001b[0m \u001b[39mraise\u001b[39;00m \u001b[39mAttributeError\u001b[39;00m(\u001b[39m\"\u001b[39m\u001b[39mmodule \u001b[39m\u001b[39m{!r}\u001b[39;00m\u001b[39m has no attribute \u001b[39m\u001b[39m\"\u001b[39m\n\u001b[0;32m    323\u001b[0m                      \u001b[39m\"\u001b[39m\u001b[39m{!r}\u001b[39;00m\u001b[39m\"\u001b[39m\u001b[39m.\u001b[39mformat(\u001b[39m__name__\u001b[39m, attr))\n",
      "\u001b[1;31mAttributeError\u001b[0m: module 'numpy' has no attribute 'arccon'"
     ]
    }
   ],
   "source": [
    "# trignometric functions\n",
    "print(np.sin(x))\n",
    "print(np.cos(x))\n",
    "print(np.tan(x))\n",
    "print(np.arcsin(x))#inverse sin\n",
    "print(np.arccon(x))#inverse \n",
    "print(np.arctan(x))#inverse sin"
   ]
  },
  {
   "cell_type": "code",
   "execution_count": 18,
   "metadata": {},
   "outputs": [
    {
     "name": "stdout",
     "output_type": "stream",
     "text": [
      "2\n",
      "[2 3 4]\n",
      "[2 4]\n",
      "[[2 3]\n",
      " [4 5]]\n",
      "[[2 3 4]\n",
      " [4 5 6]]\n"
     ]
    }
   ],
   "source": [
    "#indexing and slicing\n",
    "print(x[0,0])# first row, first column\n",
    "print(x[0,:])# first row, all colums\n",
    "print(x[:,0])# all row, first colums\n",
    "print(x[:2,:2])# first two rows, first two colums\n",
    "print(x[:2])# first two row, all columns"
   ]
  }
 ],
 "metadata": {
  "kernelspec": {
   "display_name": "base",
   "language": "python",
   "name": "python3"
  },
  "language_info": {
   "codemirror_mode": {
    "name": "ipython",
    "version": 3
   },
   "file_extension": ".py",
   "mimetype": "text/x-python",
   "name": "python",
   "nbconvert_exporter": "python",
   "pygments_lexer": "ipython3",
   "version": "3.10.10"
  },
  "orig_nbformat": 4
 },
 "nbformat": 4,
 "nbformat_minor": 2
}
