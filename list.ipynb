{
 "cells": [
  {
   "cell_type": "code",
   "execution_count": 4,
   "metadata": {},
   "outputs": [
    {
     "name": "stderr",
     "output_type": "stream",
     "text": [
      "<>:5: SyntaxWarning: list indices must be integers or slices, not tuple; perhaps you missed a comma?\n",
      "<>:5: SyntaxWarning: list indices must be integers or slices, not tuple; perhaps you missed a comma?\n",
      "C:\\Users\\akash\\AppData\\Local\\Temp\\ipykernel_7928\\3084072613.py:5: SyntaxWarning: list indices must be integers or slices, not tuple; perhaps you missed a comma?\n",
      "  b=[[1,2,3]\n",
      "C:\\Users\\akash\\AppData\\Local\\Temp\\ipykernel_7928\\3084072613.py:5: SyntaxWarning: list indices must be integers or slices, not tuple; perhaps you missed a comma?\n",
      "  b=[[1,2,3]\n",
      "C:\\Users\\akash\\AppData\\Local\\Temp\\ipykernel_7928\\3084072613.py:5: SyntaxWarning: list indices must be integers or slices, not tuple; perhaps you missed a comma?\n",
      "  b=[[1,2,3]\n",
      "C:\\Users\\akash\\AppData\\Local\\Temp\\ipykernel_7928\\3084072613.py:5: SyntaxWarning: list indices must be integers or slices, not tuple; perhaps you missed a comma?\n",
      "  b=[[1,2,3]\n"
     ]
    },
    {
     "ename": "TypeError",
     "evalue": "list indices must be integers or slices, not tuple",
     "output_type": "error",
     "traceback": [
      "\u001b[1;31m---------------------------------------------------------------------------\u001b[0m",
      "\u001b[1;31mTypeError\u001b[0m                                 Traceback (most recent call last)",
      "Cell \u001b[1;32mIn[4], line 5\u001b[0m\n\u001b[0;32m      3\u001b[0m z\u001b[39m=\u001b[39m[\u001b[39m'\u001b[39m\u001b[39mapple\u001b[39m\u001b[39m'\u001b[39m,\u001b[39m'\u001b[39m\u001b[39mbanana\u001b[39m\u001b[39m'\u001b[39m, \u001b[39m'\u001b[39m\u001b[39mcherry\u001b[39m\u001b[39m'\u001b[39m,\u001b[39m'\u001b[39m\u001b[39morange\u001b[39m\u001b[39m'\u001b[39m,\u001b[39m'\u001b[39m\u001b[39mkiwi\u001b[39m\u001b[39m'\u001b[39m]\n\u001b[0;32m      4\u001b[0m a\u001b[39m=\u001b[39m[\u001b[39m'\u001b[39m\u001b[39malex\u001b[39m\u001b[39m'\u001b[39m,\u001b[39m5\u001b[39m,\u001b[39m'\u001b[39m\u001b[39msam\u001b[39m\u001b[39m'\u001b[39m,\u001b[39m7\u001b[39m]\n\u001b[1;32m----> 5\u001b[0m b\u001b[39m=\u001b[39m[[\u001b[39m1\u001b[39;49m,\u001b[39m2\u001b[39;49m,\u001b[39m3\u001b[39;49m]\n\u001b[0;32m      6\u001b[0m     [\u001b[39m4\u001b[39;49m,\u001b[39m5\u001b[39;49m,\u001b[39m6\u001b[39;49m]\n\u001b[0;32m      7\u001b[0m     [\u001b[39m7\u001b[39m,\u001b[39m8\u001b[39m,\u001b[39m9\u001b[39m]]\n",
      "\u001b[1;31mTypeError\u001b[0m: list indices must be integers or slices, not tuple"
     ]
    }
   ],
   "source": [
    "x=[1,2,3,4,5,6,7,8,9,10]\n",
    "y=[]#empty list\n",
    "z=['apple','banana', 'cherry','orange','kiwi']\n",
    "a=['alex',5,'sam',7]\n",
    "b=[[1,2,3]\n",
    "    [4,5,6]\n",
    "    [7,8,9]]\n"
   ]
  },
  {
   "cell_type": "code",
   "execution_count": 6,
   "metadata": {},
   "outputs": [
    {
     "ename": "TypeError",
     "evalue": "Movie() takes no arguments",
     "output_type": "error",
     "traceback": [
      "\u001b[1;31m---------------------------------------------------------------------------\u001b[0m",
      "\u001b[1;31mTypeError\u001b[0m                                 Traceback (most recent call last)",
      "Cell \u001b[1;32mIn[6], line 7\u001b[0m\n\u001b[0;32m      3\u001b[0m         \u001b[39mself\u001b[39m\u001b[39m.\u001b[39mname \u001b[39m=\u001b[39mname\n\u001b[0;32m      4\u001b[0m         \u001b[39mself\u001b[39m \u001b[39m.\u001b[39myear\u001b[39m=\u001b[39myear\n\u001b[0;32m      6\u001b[0m movie\u001b[39m=\u001b[39m[\n\u001b[1;32m----> 7\u001b[0m     Movie(\u001b[39m\"\u001b[39;49m\u001b[39mThe Matrix\u001b[39;49m\u001b[39m\"\u001b[39;49m,\u001b[39m1999\u001b[39;49m),\n\u001b[0;32m      8\u001b[0m     Movie(\u001b[39m\"\u001b[39m\u001b[39mThe Matrix reloaded\u001b[39m\u001b[39m\"\u001b[39m,\u001b[39m1999\u001b[39m),\n\u001b[0;32m      9\u001b[0m     Movie(\u001b[39m\"\u001b[39m\u001b[39mThe Matrix revolutions\u001b[39m\u001b[39m\"\u001b[39m,\u001b[39m1999\u001b[39m),\n\u001b[0;32m     10\u001b[0m     Movie(\u001b[39m\"\u001b[39m\u001b[39mThe Matrix Resurrections\u001b[39m\u001b[39m\"\u001b[39m,\u001b[39m1999\u001b[39m)\n\u001b[0;32m     11\u001b[0m ]\n",
      "\u001b[1;31mTypeError\u001b[0m: Movie() takes no arguments"
     ]
    }
   ],
   "source": [
    "class Movie:\n",
    "    def init(self,name,year):\n",
    "        self.name =name\n",
    "        self .year=year\n",
    "\n",
    "movie=[\n",
    "    Movie(\"The Matrix\",1999),\n",
    "    Movie(\"The Matrix reloaded\",1999),\n",
    "    Movie(\"The Matrix revolutions\",1999),\n",
    "    Movie(\"The Matrix Resurrections\",1999)\n",
    "]        \n",
    "     \n",
    "  "
   ]
  },
  {
   "cell_type": "code",
   "execution_count": 1,
   "metadata": {},
   "outputs": [
    {
     "data": {
      "text/plain": [
       "['N', 'i', 's', 'h', 't', 'h', 'a', ' ', 'g', 'u', 'p', 't', 'a']"
      ]
     },
     "execution_count": 1,
     "metadata": {},
     "output_type": "execute_result"
    }
   ],
   "source": [
    "name ='Nishtha gupta'\n",
    "list(name)"
   ]
  },
  {
   "cell_type": "code",
   "execution_count": 7,
   "metadata": {},
   "outputs": [
    {
     "name": "stdout",
     "output_type": "stream",
     "text": [
      "[1, 2, 3, 4, 5, 6, 7, 8, 9, 10, 11, 12, 13, 14, 15, 16, 17, 18, 19, 20, 21, 22, 23, 24, 25, 26, 27, 28, 29, 30, 31, 32, 33, 34, 35, 36, 37, 38, 39, 40, 41, 42, 43, 44, 45, 46, 47, 48, 49, 50, 51, 52, 53, 54, 55, 56, 57, 58, 59, 60, 61, 62, 63, 64, 65, 66, 67, 68, 69, 70, 71, 72, 73, 74, 75, 76, 77, 78, 79, 80, 81, 82, 83, 84, 85, 86, 87, 88, 89, 90, 91, 92, 93, 94, 95, 96, 97, 98, 99, 100]\n"
     ]
    }
   ],
   "source": [
    "print(list(range(1,101)))"
   ]
  },
  {
   "cell_type": "code",
   "execution_count": 8,
   "metadata": {},
   "outputs": [
    {
     "name": "stdout",
     "output_type": "stream",
     "text": [
      "alex\n",
      "7\n",
      "sam\n",
      "5\n"
     ]
    }
   ],
   "source": [
    "print(a[0])\n",
    "print(a[-1])\n",
    "print(a[-2])\n",
    "print(a[1])\n",
    "#print(a[43])"
   ]
  },
  {
   "cell_type": "code",
   "execution_count": 18,
   "metadata": {},
   "outputs": [
    {
     "name": "stdout",
     "output_type": "stream",
     "text": [
      "[1, 2, 3, 4, 5, 6, 7, 8, 9, 10]\n",
      "[11, 12, 13, 14, 15, 16, 17, 18, 19, 20]\n",
      "[1, 2, 3, 4, 5, 6, 7, 8, 9, 10, 11, 12, 13, 14, 15, 16, 17, 18, 19, 20, 21, 22, 23, 24, 25, 26, 27, 28, 29, 30, 31, 32, 33, 34, 35, 36, 37, 38, 39, 40, 41, 42, 43, 44, 45, 46, 47, 48, 49, 50, 51, 52, 53, 54, 55, 56, 57, 58, 59, 60, 61, 62, 63, 64, 65, 66, 67, 68, 69, 70, 71, 72, 73, 74, 75, 76, 77, 78, 79, 80, 81, 82, 83, 84, 85, 86, 87, 88, 89, 90]\n",
      "[24, 25, 26, 27, 28, 29, 30, 31, 32, 33, 34, 35, 36]\n",
      "[51, 50, 49, 48, 47, 46, 45, 44, 43, 42, 41, 40, 39, 38, 37, 36, 35, 34, 33, 32]\n",
      "[2, 4, 6, 8, 10, 12, 14, 16, 18, 20, 22, 24, 26, 28, 30, 32, 34, 36, 38, 40, 42, 44, 46, 48, 50, 52, 54, 56, 58, 60, 62, 64, 66, 68, 70, 72, 74, 76, 78, 80, 82, 84, 86, 88, 90, 92, 94, 96, 98, 100]\n",
      "[100, 99, 98, 97, 96, 95, 94, 93, 92, 91, 90, 89, 88, 87, 86, 85, 84, 83, 82, 81, 80, 79, 78, 77, 76, 75, 74, 73, 72, 71, 70, 69, 68, 67, 66, 65, 64, 63, 62, 61, 60, 59, 58, 57, 56, 55, 54, 53, 52, 51, 50, 49, 48, 47, 46, 45, 44, 43, 42, 41, 40, 39, 38, 37, 36, 35, 34, 33, 32, 31, 30, 29, 28, 27, 26, 25, 24, 23, 22, 21, 20, 19, 18, 17, 16, 15, 14, 13, 12, 11, 10, 9, 8, 7, 6, 5, 4, 3, 2, 1]\n"
     ]
    }
   ],
   "source": [
    "#slicing\n",
    "data = list(range(1,101))\n",
    "print(data[:10])\n",
    "print(data[10:20])\n",
    "print(data[:-10])#last 10 element\n",
    "print(data[23:36])\n",
    "print(data[50:30:-1])#reverse silce\n",
    "print(data[1::2])#odd\n",
    "print(data[::-1])#reverse list\n"
   ]
  },
  {
   "cell_type": "code",
   "execution_count": 17,
   "metadata": {},
   "outputs": [
    {
     "name": "stdout",
     "output_type": "stream",
     "text": [
      "alex\n",
      "5\n",
      "sam\n",
      "7\n"
     ]
    }
   ],
   "source": [
    "for item in a:\n",
    "    print(item)"
   ]
  },
  {
   "cell_type": "code",
   "execution_count": 17,
   "metadata": {},
   "outputs": [
    {
     "ename": "NameError",
     "evalue": "name 'movie' is not defined",
     "output_type": "error",
     "traceback": [
      "\u001b[1;31m---------------------------------------------------------------------------\u001b[0m",
      "\u001b[1;31mNameError\u001b[0m                                 Traceback (most recent call last)",
      "Cell \u001b[1;32mIn[17], line 1\u001b[0m\n\u001b[1;32m----> 1\u001b[0m movie\u001b[39m.\u001b[39mappend(\u001b[39m'\u001b[39m\u001b[39mThe Matrix\u001b[39m\u001b[39m'\u001b[39m)\n\u001b[0;32m      2\u001b[0m movie\u001b[39m.\u001b[39mappend(\u001b[39m'\u001b[39m\u001b[39mThe Matrix Reloaded\u001b[39m\u001b[39m'\u001b[39m)\n\u001b[0;32m      3\u001b[0m movie\u001b[39m.\u001b[39mappend(\u001b[39m'\u001b[39m\u001b[39mThe Matrix Revolution\u001b[39m\u001b[39m'\u001b[39m)\n",
      "\u001b[1;31mNameError\u001b[0m: name 'movie' is not defined"
     ]
    }
   ],
   "source": [
    "movie.append('The Matrix')\n",
    "movie.append('The Matrix Reloaded')\n",
    "movie.append('The Matrix Revolution')\n",
    "movie.append('The Matrix Resurrections')\n",
    "movie.append('Fast and Furious')\n",
    "movie.append('Fast and Furious2')\n",
    "movie.append('Fast and Furious3')\n",
    "movie.append('Fast and Furious 4' )\n",
    "movie.append('Fast and Furious 5' )"
   ]
  },
  {
   "cell_type": "code",
   "execution_count": 19,
   "metadata": {},
   "outputs": [
    {
     "ename": "NameError",
     "evalue": "name 'movie' is not defined",
     "output_type": "error",
     "traceback": [
      "\u001b[1;31m---------------------------------------------------------------------------\u001b[0m",
      "\u001b[1;31mNameError\u001b[0m                                 Traceback (most recent call last)",
      "Cell \u001b[1;32mIn[19], line 1\u001b[0m\n\u001b[1;32m----> 1\u001b[0m movie\n",
      "\u001b[1;31mNameError\u001b[0m: name 'movie' is not defined"
     ]
    }
   ],
   "source": [
    "movie"
   ]
  },
  {
   "cell_type": "code",
   "execution_count": 18,
   "metadata": {},
   "outputs": [
    {
     "ename": "NameError",
     "evalue": "name 'movie' is not defined",
     "output_type": "error",
     "traceback": [
      "\u001b[1;31m---------------------------------------------------------------------------\u001b[0m",
      "\u001b[1;31mNameError\u001b[0m                                 Traceback (most recent call last)",
      "Cell \u001b[1;32mIn[18], line 2\u001b[0m\n\u001b[0;32m      1\u001b[0m value \u001b[39m=\u001b[39m\u001b[39m'\u001b[39m\u001b[39mshrek\u001b[39m\u001b[39m'\u001b[39m\n\u001b[1;32m----> 2\u001b[0m \u001b[39mif\u001b[39;00m value \u001b[39min\u001b[39;00m movie:\n\u001b[0;32m      3\u001b[0m     movie\u001b[39m.\u001b[39mremove(value)\n\u001b[0;32m      4\u001b[0m \u001b[39melse\u001b[39;00m:\n",
      "\u001b[1;31mNameError\u001b[0m: name 'movie' is not defined"
     ]
    }
   ],
   "source": [
    "value ='shrek'\n",
    "if value in movie:\n",
    "    movie.remove(value)\n",
    "else:\n",
    "    print('value not found')    "
   ]
  },
  {
   "cell_type": "code",
   "execution_count": 20,
   "metadata": {},
   "outputs": [
    {
     "ename": "NameError",
     "evalue": "name 'movie' is not defined",
     "output_type": "error",
     "traceback": [
      "\u001b[1;31m---------------------------------------------------------------------------\u001b[0m",
      "\u001b[1;31mNameError\u001b[0m                                 Traceback (most recent call last)",
      "Cell \u001b[1;32mIn[20], line 1\u001b[0m\n\u001b[1;32m----> 1\u001b[0m movie\u001b[39m.\u001b[39mclear()\n",
      "\u001b[1;31mNameError\u001b[0m: name 'movie' is not defined"
     ]
    }
   ],
   "source": [
    "movie.clear()"
   ]
  },
  {
   "cell_type": "code",
   "execution_count": 20,
   "metadata": {},
   "outputs": [],
   "source": [
    "movie = []\n",
    "movie.append('Shrek')"
   ]
  },
  {
   "cell_type": "code",
   "execution_count": 21,
   "metadata": {},
   "outputs": [],
   "source": [
    "uinp = input('enter a movie:')\n",
    "movie.append(uinp)"
   ]
  },
  {
   "cell_type": "code",
   "execution_count": 22,
   "metadata": {},
   "outputs": [
    {
     "data": {
      "text/plain": [
       "['Shrek', 'inception', 'king fu panda 2']"
      ]
     },
     "execution_count": 22,
     "metadata": {},
     "output_type": "execute_result"
    }
   ],
   "source": [
    "movie.insert(3,'king fu panda 2')#insert\n",
    "movie"
   ]
  },
  {
   "cell_type": "code",
   "execution_count": 3,
   "metadata": {},
   "outputs": [
    {
     "name": "stdout",
     "output_type": "stream",
     "text": [
      "['']\n"
     ]
    }
   ],
   "source": [
    "#user created list\n",
    "animelist=[]\n",
    "for i in range(5):\n",
    "    name =input('enter an anime:')\n",
    "    animelist.append(name)\n",
    "    print(animelist)"
   ]
  },
  {
   "cell_type": "code",
   "execution_count": 1,
   "metadata": {},
   "outputs": [
    {
     "data": {
      "text/plain": [
       "[1, 2, 3, 4, 5, 6, 7, 8]"
      ]
     },
     "execution_count": 1,
     "metadata": {},
     "output_type": "execute_result"
    }
   ],
   "source": [
    "x=[1,2,3,4]\n",
    "y=[5,6,7,8]\n",
    "\n",
    "x+y # creates a new list"
   ]
  },
  {
   "cell_type": "code",
   "execution_count": 2,
   "metadata": {},
   "outputs": [
    {
     "name": "stdout",
     "output_type": "stream",
     "text": [
      "[1, 2, 3, 4, 5, 6, 7, 8]\n"
     ]
    }
   ],
   "source": [
    "x.extend(y)#modifies x\n",
    "print(x)"
   ]
  },
  {
   "cell_type": "code",
   "execution_count": 3,
   "metadata": {},
   "outputs": [
    {
     "name": "stdout",
     "output_type": "stream",
     "text": [
      "1\n",
      "1\n",
      "3\n",
      "1\n"
     ]
    }
   ],
   "source": [
    "x =[12,1,3,10,3,5,3,6,4,6,4,6,4,6,4,7,4,74,7,4,6,7,4,6]\n",
    "print(x.count(1))\n",
    "print(x.count(12))\n",
    "print(x.count(3))\n",
    "print(x.count(10))\n"
   ]
  },
  {
   "cell_type": "code",
   "execution_count": 23,
   "metadata": {},
   "outputs": [
    {
     "ename": "NameError",
     "evalue": "name 'data' is not defined",
     "output_type": "error",
     "traceback": [
      "\u001b[1;31m---------------------------------------------------------------------------\u001b[0m",
      "\u001b[1;31mNameError\u001b[0m                                 Traceback (most recent call last)",
      "Cell \u001b[1;32mIn[23], line 1\u001b[0m\n\u001b[1;32m----> 1\u001b[0m \u001b[39mdel\u001b[39;00m data\n",
      "\u001b[1;31mNameError\u001b[0m: name 'data' is not defined"
     ]
    }
   ],
   "source": [
    "del data #deletes the variable from memory"
   ]
  },
  {
   "cell_type": "code",
   "execution_count": 6,
   "metadata": {},
   "outputs": [],
   "source": [
    "\n",
    "book =[\n",
    "    'the final empire',\n",
    "    'hreo of age',\n",
    "    'well of ascension',\n",
    "    'the way of kings',\n",
    "    'words of radiance',\n",
    "    'oathbringer',\n",
    "    'rhythm of war',\n",
    "    'warbreaker',\n",
    "    'elantris',\n",
    "    'white sand'\n",
    "    \n",
    "]"
   ]
  },
  {
   "cell_type": "code",
   "execution_count": 7,
   "metadata": {},
   "outputs": [
    {
     "data": {
      "text/plain": [
       "5"
      ]
     },
     "execution_count": 7,
     "metadata": {},
     "output_type": "execute_result"
    }
   ],
   "source": [
    "book .index('oathbringer')"
   ]
  },
  {
   "cell_type": "code",
   "execution_count": 8,
   "metadata": {},
   "outputs": [
    {
     "name": "stdout",
     "output_type": "stream",
     "text": [
      "['white sand', 'elantris', 'warbreaker', 'rhythm of war', 'oathbringer', 'words of radiance', 'the way of kings', 'well of ascension', 'hreo of age', 'the final empire']\n"
     ]
    }
   ],
   "source": [
    "book.reverse()\n",
    "print(book)"
   ]
  },
  {
   "cell_type": "code",
   "execution_count": 24,
   "metadata": {},
   "outputs": [
    {
     "name": "stdout",
     "output_type": "stream",
     "text": [
      "['words of radiance', 'white sand', 'well of ascension', 'warbreaker', 'the way of kings', 'the final empire', 'the alloy of law', 'rhythm of war', 'oathbringer', 'hreo of age', 'elantris']\n"
     ]
    }
   ],
   "source": [
    "book.sort(reverse=True)#sorts data in ascending order if all element are of same type\n",
    "print(book)"
   ]
  },
  {
   "cell_type": "code",
   "execution_count": 25,
   "metadata": {},
   "outputs": [
    {
     "data": {
      "text/plain": [
       "['words of radiance',\n",
       " 'white sand',\n",
       " 'well of ascension',\n",
       " 'warbreaker',\n",
       " 'the way of kings',\n",
       " 'the final empire',\n",
       " 'the alloy of law',\n",
       " 'rhythm of war',\n",
       " 'oathbringer',\n",
       " 'hreo of age',\n",
       " 'elantris']"
      ]
     },
     "execution_count": 25,
     "metadata": {},
     "output_type": "execute_result"
    }
   ],
   "source": [
    "book"
   ]
  },
  {
   "cell_type": "code",
   "execution_count": 12,
   "metadata": {},
   "outputs": [],
   "source": [
    "book_backup= book.copy()#a copy of  variable is created at a different memory location"
   ]
  },
  {
   "cell_type": "code",
   "execution_count": 13,
   "metadata": {},
   "outputs": [],
   "source": [
    "book2 = book #both varaible print tothe the same memory location"
   ]
  },
  {
   "cell_type": "code",
   "execution_count": 14,
   "metadata": {},
   "outputs": [
    {
     "name": "stdout",
     "output_type": "stream",
     "text": [
      "['elantris', 'hreo of age', 'oathbringer', 'rhythm of war', 'the final empire', 'the way of kings', 'warbreaker', 'well of ascension', 'white sand', 'words of radiance', 'the alloy of law']\n",
      "['elantris', 'hreo of age', 'oathbringer', 'rhythm of war', 'the final empire', 'the way of kings', 'warbreaker', 'well of ascension', 'white sand', 'words of radiance', 'the alloy of law']\n",
      "['elantris', 'hreo of age', 'oathbringer', 'rhythm of war', 'the final empire', 'the way of kings', 'warbreaker', 'well of ascension', 'white sand', 'words of radiance']\n"
     ]
    }
   ],
   "source": [
    "book2.append('the alloy of law')\n",
    "print(book)\n",
    "print(book2)\n",
    "print(book_backup)"
   ]
  },
  {
   "cell_type": "code",
   "execution_count": 15,
   "metadata": {},
   "outputs": [
    {
     "data": {
      "text/plain": [
       "True"
      ]
     },
     "execution_count": 15,
     "metadata": {},
     "output_type": "execute_result"
    }
   ],
   "source": [
    "book2 is book"
   ]
  },
  {
   "cell_type": "code",
   "execution_count": 16,
   "metadata": {},
   "outputs": [
    {
     "data": {
      "text/plain": [
       "False"
      ]
     },
     "execution_count": 16,
     "metadata": {},
     "output_type": "execute_result"
    }
   ],
   "source": [
    "book_backup is book"
   ]
  },
  {
   "cell_type": "code",
   "execution_count": null,
   "metadata": {},
   "outputs": [],
   "source": []
  }
 ],
 "metadata": {
  "kernelspec": {
   "display_name": "base",
   "language": "python",
   "name": "python3"
  },
  "language_info": {
   "codemirror_mode": {
    "name": "ipython",
    "version": 3
   },
   "file_extension": ".py",
   "mimetype": "text/x-python",
   "name": "python",
   "nbconvert_exporter": "python",
   "pygments_lexer": "ipython3",
   "version": "3.10.10"
  },
  "orig_nbformat": 4
 },
 "nbformat": 4,
 "nbformat_minor": 2
}
