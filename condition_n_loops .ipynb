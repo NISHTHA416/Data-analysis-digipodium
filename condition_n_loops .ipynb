{
 "cells": [
  {
   "cell_type": "code",
   "execution_count": 33,
   "metadata": {},
   "outputs": [
    {
     "name": "stdout",
     "output_type": "stream",
     "text": [
      "Yahoo\n"
     ]
    }
   ],
   "source": [
    "x=13\n",
    "if x>10:\n",
    "    print(\"Yahoo\")"
   ]
  },
  {
   "cell_type": "code",
   "execution_count": 34,
   "metadata": {},
   "outputs": [],
   "source": [
    "x=10\n",
    "b =3"
   ]
  },
  {
   "cell_type": "code",
   "execution_count": 35,
   "metadata": {},
   "outputs": [
    {
     "name": "stdout",
     "output_type": "stream",
     "text": [
      "x is greater than b\n"
     ]
    }
   ],
   "source": [
    "if x> b:\n",
    "    print(\"x is greater than b\")\n",
    "    "
   ]
  },
  {
   "cell_type": "code",
   "execution_count": 36,
   "metadata": {},
   "outputs": [
    {
     "name": "stdout",
     "output_type": "stream",
     "text": [
      " x is grater than 5\n"
     ]
    }
   ],
   "source": [
    "if x>5:\n",
    "    print(\" x is grater than 5\")\n",
    "else:\n",
    "    print(\"x is not greater than 5\")\n"
   ]
  },
  {
   "cell_type": "code",
   "execution_count": 37,
   "metadata": {},
   "outputs": [
    {
     "name": "stdout",
     "output_type": "stream",
     "text": [
      " x and b are greater than 5\n"
     ]
    }
   ],
   "source": [
    "if x>5:\n",
    "    if b>1:\n",
    "        print(\" x and b are greater than 5\")\n",
    "    else:\n",
    "        print(\"x is greater than 5 but  b is not grater than 5\")\n",
    "    \n",
    "else:\n",
    "       print (\"x is not grater than 5\")\n"
   ]
  },
  {
   "cell_type": "code",
   "execution_count": 38,
   "metadata": {},
   "outputs": [
    {
     "name": "stdout",
     "output_type": "stream",
     "text": [
      " x is greater than y and z\n"
     ]
    }
   ],
   "source": [
    "# multiple conditional statement\n",
    "x,y,z=120, 23, 15\n",
    "if x>y and x>z:\n",
    "    print(\" x is greater than y and z\")\n",
    "elif y > x and y > z:\n",
    "    print(\"y is greater thanx and z\")\n",
    "\n",
    " \n",
    " \n",
    "elif z>x and z>y :\n",
    "    print(\"z is greater than x and y\")  \n",
    "else:\n",
    " print(\" x,y and z are equal\")"
   ]
  },
  {
   "cell_type": "code",
   "execution_count": null,
   "metadata": {},
   "outputs": [],
   "source": [
    "day= input('Enter the day of the week:')\n",
    " match day:\n",
    " \n"
   ]
  }
 ],
 "metadata": {
  "kernelspec": {
   "display_name": "base",
   "language": "python",
   "name": "python3"
  },
  "language_info": {
   "codemirror_mode": {
    "name": "ipython",
    "version": 3
   },
   "file_extension": ".py",
   "mimetype": "text/x-python",
   "name": "python",
   "nbconvert_exporter": "python",
   "pygments_lexer": "ipython3",
   "version": "3.10.10"
  },
  "orig_nbformat": 4
 },
 "nbformat": 4,
 "nbformat_minor": 2
}
