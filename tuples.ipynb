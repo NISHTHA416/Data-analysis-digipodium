{
 "cells": [
  {
   "cell_type": "code",
   "execution_count": 1,
   "metadata": {},
   "outputs": [
    {
     "name": "stdout",
     "output_type": "stream",
     "text": [
      "(12, 13, 50)\n",
      "<class 'tuple'>\n"
     ]
    }
   ],
   "source": [
    "x=12,13,50\n",
    "print(x)\n",
    "print(type(x))"
   ]
  },
  {
   "cell_type": "code",
   "execution_count": 2,
   "metadata": {},
   "outputs": [
    {
     "name": "stdout",
     "output_type": "stream",
     "text": [
      "(13,)\n",
      "<class 'tuple'>\n"
     ]
    }
   ],
   "source": [
    "#single element tuple\n",
    "b=(13,)\n",
    "print(b)\n",
    "print(type(b))"
   ]
  },
  {
   "cell_type": "code",
   "execution_count": 3,
   "metadata": {},
   "outputs": [
    {
     "name": "stdout",
     "output_type": "stream",
     "text": [
      "12 13 50\n"
     ]
    }
   ],
   "source": [
    "#tuple unpacking\n",
    "x1,x2,x3 =x#a has 3 elements\n",
    "print(x1,x2,x3)\n"
   ]
  },
  {
   "cell_type": "code",
   "execution_count": 7,
   "metadata": {},
   "outputs": [
    {
     "name": "stdout",
     "output_type": "stream",
     "text": [
      "1 [5, 6, 7, 12, 14, 16, 17]\n"
     ]
    }
   ],
   "source": [
    "\n",
    "#tuple unpacking\n",
    "a=(1,3,5,6,7,12,14 ,16,17)\n",
    "a1, a2, *a3,= a #a3 will get the remaining element as a list\n",
    "print(a1,a3)\n"
   ]
  },
  {
   "cell_type": "code",
   "execution_count": 8,
   "metadata": {},
   "outputs": [
    {
     "data": {
      "text/plain": [
       "7"
      ]
     },
     "execution_count": 8,
     "metadata": {},
     "output_type": "execute_result"
    }
   ],
   "source": [
    "#tuple slicing\n",
    "a[-5]"
   ]
  },
  {
   "cell_type": "code",
   "execution_count": 9,
   "metadata": {},
   "outputs": [
    {
     "name": "stdout",
     "output_type": "stream",
     "text": [
      "1\n",
      "3\n",
      "5\n",
      "6\n",
      "7\n",
      "12\n",
      "14\n",
      "16\n",
      "17\n"
     ]
    }
   ],
   "source": [
    "for i in a:\n",
    "    print(i)"
   ]
  },
  {
   "cell_type": "code",
   "execution_count": 28,
   "metadata": {},
   "outputs": [
    {
     "name": "stdout",
     "output_type": "stream",
     "text": [
      "2\n",
      "2\n",
      "0\n",
      "2\n",
      "2\n"
     ]
    }
   ],
   "source": [
    "x = (1,2,3,1,2,8,4,7,8)\n",
    "print(x.count(1))\n",
    "print(x.count(2))\n",
    "print(x.count(5))\n",
    "print(x.index(3)) #3 is the value to search\n",
    "print(x.index(3,2))# 3 is the value to search and 5 is the starting index"
   ]
  },
  {
   "cell_type": "code",
   "execution_count": 29,
   "metadata": {},
   "outputs": [
    {
     "name": "stdout",
     "output_type": "stream",
     "text": [
      "(1, 2, 3)\n",
      "[1, 2, 3]\n"
     ]
    }
   ],
   "source": [
    "a=[1,2,3]\n",
    "at = tuple(a)#list to tuple\n",
    "al = list(at)# tuple to list\n",
    "print(at)\n",
    "print(al)"
   ]
  },
  {
   "cell_type": "code",
   "execution_count": 15,
   "metadata": {},
   "outputs": [
    {
     "name": "stdout",
     "output_type": "stream",
     "text": [
      "set()\n",
      "<class 'set'>\n",
      "{'all', 3, 4, 'hello'}\n",
      "{'all', 4, 'hello'}\n"
     ]
    }
   ],
   "source": [
    "#Set\n",
    "\n",
    "s1 = set() #empty set\n",
    "print(s1)\n",
    "print(type(s1))\n",
    "s1.add(3)# using add ()\n",
    "s1.add(4)\n",
    "s1.add('hello')\n",
    "s1.add('all')\n",
    "s1.add(3)\n",
    "print(s1)\n",
    "\n",
    "s1. discard(3)  # remove 3 from set s1(remove() can also be used)\n",
    "print(s1)"
   ]
  },
  {
   "cell_type": "code",
   "execution_count": 17,
   "metadata": {},
   "outputs": [
    {
     "name": "stdout",
     "output_type": "stream",
     "text": [
      "all\n",
      "4\n",
      "hello\n"
     ]
    }
   ],
   "source": [
    "for i in s1:\n",
    "    print(i)"
   ]
  },
  {
   "cell_type": "code",
   "execution_count": 19,
   "metadata": {},
   "outputs": [
    {
     "name": "stdout",
     "output_type": "stream",
     "text": [
      "['n', 'i', 's', 'h', 't', 'h', 'a']\n"
     ]
    }
   ],
   "source": [
    "name= list ('nishtha')\n",
    "print(name)"
   ]
  },
  {
   "cell_type": "code",
   "execution_count": 22,
   "metadata": {},
   "outputs": [],
   "source": [
    "# set opreations\n",
    "group1 ={'appple','banana','papaya','watermelon','kiwi'}\n",
    "group2 ={'appple','banana', 'lichi,''papaya','watermelon','kiwi',}"
   ]
  },
  {
   "cell_type": "code",
   "execution_count": 29,
   "metadata": {},
   "outputs": [
    {
     "name": "stdout",
     "output_type": "stream",
     "text": [
      "{'kiwi', 'lichi,papaya', 'papaya', 'watermelon', 'appple', 'banana'}\n",
      "{'kiwi', 'lichi,papaya', 'papaya', 'watermelon', 'appple', 'banana'}\n"
     ]
    }
   ],
   "source": [
    "#union\n",
    "print(group1 | group2)#all element from both the sets\n",
    "print(group1.union(group2))"
   ]
  },
  {
   "cell_type": "code",
   "execution_count": 28,
   "metadata": {},
   "outputs": [
    {
     "name": "stdout",
     "output_type": "stream",
     "text": [
      "{'kiwi', 'watermelon', 'appple', 'banana'}\n",
      "{'kiwi', 'watermelon', 'appple', 'banana'}\n"
     ]
    }
   ],
   "source": [
    "#intersection\n",
    "\n",
    "print(group1 & group2)\n",
    "print(group1. intersection(group2)) # common element from both the set"
   ]
  },
  {
   "cell_type": "code",
   "execution_count": 34,
   "metadata": {},
   "outputs": [
    {
     "name": "stdout",
     "output_type": "stream",
     "text": [
      "{'papaya'}\n",
      "{'papaya'}\n",
      "{'lichi,papaya'}\n",
      "{'lichi,papaya'}\n"
     ]
    }
   ],
   "source": [
    "#difference\n",
    "\n",
    "print(group1 - group2)# elements in group1 but not in group2\n",
    "print(group1.difference(group2))\n",
    "print(group2 - group1) # elements in group2 but not in group1\n",
    "print(group2. difference(group1))"
   ]
  },
  {
   "cell_type": "code",
   "execution_count": 36,
   "metadata": {},
   "outputs": [
    {
     "name": "stdout",
     "output_type": "stream",
     "text": [
      "{'lichi,papaya', 'papaya'}\n",
      "{'lichi,papaya', 'papaya'}\n"
     ]
    }
   ],
   "source": [
    "# symmetric diffrence \n",
    "print(group1 ^ group2)# element in g1 and g2 but not in both\n",
    "print(group1.symmetric_difference(group2))"
   ]
  },
  {
   "cell_type": "code",
   "execution_count": 38,
   "metadata": {},
   "outputs": [
    {
     "name": "stdout",
     "output_type": "stream",
     "text": [
      "['DIPALI', [['MATHS', 78], ['SCIENCE', 79], ['ENGLISH', 80]]]\n",
      "['DOLLY', [['MATHS', 78], ['SCIENCE', 79], ['ENGLISH', 80]]]\n",
      "['NISHTHA', [['MATHS', 78], ['SCIENCE', 79], ['ENGLISH', 80]]]\n",
      "['RUPALI', [['MATHS', 78], ['SCIENCE', 79], ['ENGLISH', 90]]]\n",
      "['HARI', [['MATHS', 98], ['SCIENCE', 99], ['ENGLISH', 90]]]\n",
      "['AMIT', [['MATHS', 70], ['SCIENCE', 71], ['ENGLISH', 81]]]\n",
      "['AKASH', [['MATHS', 90], ['SCIENCE', 91], ['ENGLISH', 85]]]\n"
     ]
    }
   ],
   "source": [
    "reports =[\n",
    "['DIPALI',[\n",
    "    ['MATHS',78],\n",
    "    ['SCIENCE',79],\n",
    "    ['ENGLISH',80],\n",
    "]],\n",
    "['DOLLY',[\n",
    "    ['MATHS',78],\n",
    "    ['SCIENCE',79],\n",
    "    ['ENGLISH',80],\n",
    "]],\n",
    "['NISHTHA',[\n",
    "    ['MATHS',78],\n",
    "    ['SCIENCE',79],\n",
    "    ['ENGLISH',80],\n",
    "]],\n",
    "['RUPALI',[\n",
    "    ['MATHS',78],\n",
    "    ['SCIENCE',79],\n",
    "    ['ENGLISH',90],\n",
    "]],\n",
    "['HARI',[\n",
    "    ['MATHS',98],\n",
    "    ['SCIENCE',99],\n",
    "    ['ENGLISH',90],\n",
    "]],\n",
    "['AMIT',[\n",
    "    ['MATHS',70],\n",
    "     ['SCIENCE',71],\n",
    "    ['ENGLISH',81],\n",
    "]],\n",
    "['AKASH',[\n",
    "    ['MATHS',90],\n",
    "    ['SCIENCE',91],\n",
    "    ['ENGLISH',85],\n",
    "]],\n",
    "]\n",
    "for student in reports:\n",
    "       print(student)"
   ]
  }
 ],
 "metadata": {
  "kernelspec": {
   "display_name": "base",
   "language": "python",
   "name": "python3"
  },
  "language_info": {
   "codemirror_mode": {
    "name": "ipython",
    "version": 3
   },
   "file_extension": ".py",
   "mimetype": "text/x-python",
   "name": "python",
   "nbconvert_exporter": "python",
   "pygments_lexer": "ipython3",
   "version": "3.10.10"
  },
  "orig_nbformat": 4
 },
 "nbformat": 4,
 "nbformat_minor": 2
}
