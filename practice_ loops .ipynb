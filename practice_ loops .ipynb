{
 "cells": [
  {
   "cell_type": "code",
   "execution_count": 1,
   "metadata": {},
   "outputs": [
    {
     "name": "stdout",
     "output_type": "stream",
     "text": [
      "1\n",
      "2\n",
      "3\n",
      "4\n",
      "5\n",
      "6\n",
      "7\n",
      "8\n",
      "9\n",
      "10\n"
     ]
    }
   ],
   "source": [
    "#Write a program to print numbers from 1 to 10 using a for loop.\n",
    "for i in range(1, 11):\n",
    "    print(i)"
   ]
  },
  {
   "cell_type": "code",
   "execution_count": 4,
   "metadata": {},
   "outputs": [
    {
     "name": "stdout",
     "output_type": "stream",
     "text": [
      "4 * 2 = 8\n",
      "5 * 2 = 10\n",
      "6 * 2 = 12\n",
      "7 * 2 = 14\n",
      "8 * 2 = 16\n",
      "9 * 2 = 18\n",
      "10 * 2 = 20\n",
      "11 * 2 = 22\n",
      "12 * 2 = 24\n",
      "13 * 2 = 26\n",
      "14 * 2 = 28\n",
      "15 * 2 = 30\n",
      "16 * 2 = 32\n",
      "17 * 2 = 34\n",
      "18 * 2 = 36\n",
      "19 * 2 = 38\n",
      "20 * 2 = 40\n",
      "21 * 2 = 42\n",
      "22 * 2 = 44\n",
      "23 * 2 = 46\n",
      "24 * 2 = 48\n",
      "25 * 2 = 50\n"
     ]
    }
   ],
   "source": [
    "#Write a program to print the multiplication table of a given number using a while loop\n",
    "table=int(input(\"Enter the table :\"))\n",
    "start=int(input(\"Enter the starting number : \"))\n",
    "limit=int(input(\"Enter the limit :\"))\n",
    "while(start<=limit):\n",
    "  print(start,\"*\",table,\"=\",start*table)\n",
    "  start=start+1"
   ]
  },
  {
   "cell_type": "code",
   "execution_count": 1,
   "metadata": {},
   "outputs": [
    {
     "name": "stdout",
     "output_type": "stream",
     "text": [
      "The sum of all even numbers between 1 and 100 is: 2550\n"
     ]
    }
   ],
   "source": [
    "#Write a program to find the sum of all even numbers between 1 and 100 using a for loop\n",
    "sum_even = 0\n",
    "for num in range(2, 101, 2):\n",
    "    sum_even += num\n",
    "print(\"The sum of all even numbers between 1 and 100 is:\", sum_even)"
   ]
  },
  {
   "cell_type": "code",
   "execution_count": 5,
   "metadata": {},
   "outputs": [
    {
     "name": "stdout",
     "output_type": "stream",
     "text": [
      "1 is not a prime number\n"
     ]
    }
   ],
   "source": [
    "#Write a program to check if a given number is prime or not using a while loop\n",
    "num = int(input(\"Enter a number: \"))\n",
    "if num > 1: \n",
    "   for i in range(2,num):\n",
    "       if (num % i) == 0:\n",
    "           print(num,\"is not a prime number\")\n",
    "           break\n",
    "   else:\n",
    "       print(num,\"is a prime number\")\n",
    "else:\n",
    "   print(num,\"is not a prime number\")"
   ]
  },
  {
   "cell_type": "code",
   "execution_count": 7,
   "metadata": {},
   "outputs": [
    {
     "ename": "ValueError",
     "evalue": "invalid literal for int() with base 10: 'The factorial of 7 is 5040'",
     "output_type": "error",
     "traceback": [
      "\u001b[1;31m---------------------------------------------------------------------------\u001b[0m",
      "\u001b[1;31mValueError\u001b[0m                                Traceback (most recent call last)",
      "Cell \u001b[1;32mIn[7], line 3\u001b[0m\n\u001b[0;32m      1\u001b[0m \u001b[39m#Write a program to calculate the factorial of a number using a for loop\u001b[39;00m\n\u001b[1;32m----> 3\u001b[0m m \u001b[39m=\u001b[39m \u001b[39mint\u001b[39;49m(\u001b[39minput\u001b[39;49m(\u001b[39m\"\u001b[39;49m\u001b[39mEnter a number: \u001b[39;49m\u001b[39m\"\u001b[39;49m))\n\u001b[0;32m      4\u001b[0m factorial \u001b[39m=\u001b[39m \u001b[39m1\u001b[39m\n\u001b[0;32m      5\u001b[0m \u001b[39mif\u001b[39;00m num \u001b[39m<\u001b[39m \u001b[39m0\u001b[39m:\n",
      "\u001b[1;31mValueError\u001b[0m: invalid literal for int() with base 10: 'The factorial of 7 is 5040'"
     ]
    }
   ],
   "source": [
    "#Write a program to calculate the factorial of a number using a for loop\n",
    "\n",
    "m = int(input(\"Enter a number: \"))\n",
    "factorial = 1\n",
    "if num < 0:\n",
    "   print(\"Sorry, factorial does not exist for negative numbers\")\n",
    "elif num == 0:\n",
    "   print(\"The factorial of 0 is 1\")\n",
    "else:\n",
    "   for i in range(1,m + 1):\n",
    "       factorial = factorial*i\n",
    "   print(\"The factorial of\",m,\"is\",factorial)"
   ]
  },
  {
   "cell_type": "code",
   "execution_count": 8,
   "metadata": {},
   "outputs": [
    {
     "name": "stdout",
     "output_type": "stream",
     "text": [
      "The Output of your input is 0 1 1 2 3 5 8 13 21 34 55 89 144 233 377 610 987 1597 2584 4181 6765 10946 17711 28657 46368 75025 121393 196418 317811 514229 832040 1346269 2178309 3524578 5702887 9227465 14930352 24157817 39088169 63245986 102334155 165580141 267914296 433494437 701408733 1134903170 1836311903 2971215073 4807526976 7778742049 12586269025 20365011074 32951280099 53316291173 86267571272 139583862445 225851433717 365435296162 591286729879 956722026041 1548008755920 2504730781961 4052739537881 6557470319842 10610209857723 17167680177565 27777890035288 44945570212853 72723460248141 117669030460994 190392490709135 308061521170129 498454011879264 806515533049393 1304969544928657 2111485077978050 3416454622906707 5527939700884757 8944394323791464 14472334024676221 23416728348467685 37889062373143906 61305790721611591 99194853094755497 160500643816367088 259695496911122585 420196140727489673 679891637638612258 1100087778366101931 1779979416004714189 2880067194370816120 4660046610375530309 7540113804746346429 12200160415121876738 19740274219868223167 31940434634990099905 51680708854858323072 83621143489848422977 135301852344706746049 218922995834555169026 354224848179261915075 573147844013817084101 927372692193078999176 1500520536206896083277 2427893228399975082453 3928413764606871165730 6356306993006846248183 10284720757613717413913 16641027750620563662096 26925748508234281076009 43566776258854844738105 70492524767089125814114 "
     ]
    }
   ],
   "source": [
    "#Write a program to print the Fibonacci series up to a given limit using a while loop\n",
    "\n",
    "n=int(input(\"Enter the number of terms: \"))\n",
    "a=0 \n",
    "b=1 \n",
    "if n<=0:\n",
    "    print(\"The Output of your input is\",a)\n",
    "else:\n",
    "    print(\"The Output of your input is\",a,b,end=\" \")\n",
    "    for x in range(2,n):\n",
    "        c=a+b\n",
    "        print(c,end=\" \")\n",
    "        a=b\n",
    "        b=c"
   ]
  },
  {
   "cell_type": "code",
   "execution_count": 9,
   "metadata": {},
   "outputs": [
    {
     "name": "stdout",
     "output_type": "stream",
     "text": [
      "2222\n"
     ]
    }
   ],
   "source": [
    "#Write a program to find the largest element in an array using a for loop\n",
    "\n",
    "lst = [20, 422, 2222, 99]\n",
    "largest = lst[0]\n",
    "for i in lst:\n",
    "    if i>largest:\n",
    "        largest = i\n",
    "print(largest)"
   ]
  },
  {
   "cell_type": "code",
   "execution_count": 10,
   "metadata": {},
   "outputs": [
    {
     "name": "stdout",
     "output_type": "stream",
     "text": [
      "Before =  nishtha\n",
      "After =  ahthsin\n"
     ]
    }
   ],
   "source": [
    "st1 = input(\" enter string : \")\n",
    "st2 = ''\n",
    "for i in st1:\n",
    "    st2 = i + st2\n",
    "print(\"Before = \", st1)\n",
    "print(\"After = \", st2)"
   ]
  },
  {
   "cell_type": "code",
   "execution_count": 11,
   "metadata": {},
   "outputs": [
    {
     "name": "stdout",
     "output_type": "stream",
     "text": [
      "ASCII value: 97, Character:  a\n",
      "ASCII value: 98, Character:  b\n",
      "ASCII value: 99, Character:  c\n",
      "ASCII value: 100, Character:  d\n",
      "ASCII value: 101, Character:  e\n",
      "ASCII value: 102, Character:  f\n",
      "ASCII value: 103, Character:  g\n",
      "ASCII value: 104, Character:  h\n",
      "ASCII value: 105, Character:  i\n",
      "ASCII value: 106, Character:  j\n",
      "ASCII value: 107, Character:  k\n",
      "ASCII value: 108, Character:  l\n",
      "ASCII value: 109, Character:  m\n",
      "ASCII value: 110, Character:  n\n",
      "ASCII value: 111, Character:  o\n",
      "ASCII value: 112, Character:  p\n",
      "ASCII value: 113, Character:  q\n",
      "ASCII value: 114, Character:  r\n",
      "ASCII value: 115, Character:  s\n",
      "ASCII value: 116, Character:  t\n",
      "ASCII value: 117, Character:  u\n",
      "ASCII value: 118, Character:  v\n",
      "ASCII value: 119, Character:  w\n",
      "ASCII value: 120, Character:  x\n",
      "ASCII value: 121, Character:  y\n",
      "ASCII value: 122, Character:  z\n"
     ]
    }
   ],
   "source": [
    "#Write a program to print the ASCII values of all uppercase letters using a for loop\n",
    "\n",
    "for ch in range(97, 123):\n",
    "    print(\"ASCII value: \" + str(ch) + \", Character: \", chr(ch))"
   ]
  },
  {
   "cell_type": "code",
   "execution_count": 12,
   "metadata": {},
   "outputs": [
    {
     "name": "stdout",
     "output_type": "stream",
     "text": [
      "cat is not a Palindrome. is not a Palindrome.\n"
     ]
    }
   ],
   "source": [
    "# Write a program to check if a given string is a palindrome using a while loop\n",
    "\n",
    "str=input(\"Enter String: \")\n",
    "i=0\n",
    "j=len(str)-1\n",
    "check=True\n",
    "while i<=j:\n",
    "    if(str[i]!=str[j]):\n",
    "        check=False\n",
    "        break\n",
    "    i+=1\n",
    "    j-=1\n",
    " \n",
    "if check:\n",
    "    print(f\"{str} is Palindrome.\")\n",
    "else:\n",
    "    print(f\"{str} is not a Palindrome.\")"
   ]
  },
  {
   "cell_type": "code",
   "execution_count": 14,
   "metadata": {},
   "outputs": [
    {
     "name": "stdout",
     "output_type": "stream",
     "text": [
      "3.0\n"
     ]
    }
   ],
   "source": [
    "#Write a program to calculate the average of a list of numbers using a for loop\n",
    "\n",
    "numbers = [1, 2, 3, 4, 5]\n",
    "total = 0\n",
    "for num in numbers:\n",
    "    total += num\n",
    "average = total / len(numbers)\n",
    "print(average)\n"
   ]
  },
  {
   "cell_type": "code",
   "execution_count": 13,
   "metadata": {},
   "outputs": [
    {
     "name": "stdout",
     "output_type": "stream",
     "text": [
      "-1\n"
     ]
    }
   ],
   "source": [
    "\n",
    "# Write a program to find the smallest element in an array using a while loop\n",
    "\n",
    "arr = [10, 4, 80, 8, 0, -1]\n",
    "mini = arr[0]\n",
    "\n",
    "for i in range(len(arr)):\n",
    "  if arr[i] < mini:\n",
    "     mini = arr[i]\n",
    "\n",
    "print (mini)"
   ]
  },
  {
   "cell_type": "code",
   "execution_count": 16,
   "metadata": {},
   "outputs": [
    {
     "name": "stdout",
     "output_type": "stream",
     "text": [
      "1 x 1 = 1\n",
      "1 x 2 = 2\n",
      "1 x 3 = 3\n",
      "1 x 4 = 4\n",
      "1 x 5 = 5\n",
      "1 x 6 = 6\n",
      "1 x 7 = 7\n",
      "1 x 8 = 8\n",
      "1 x 9 = 9\n",
      "1 x 10 = 10\n",
      "2 x 1 = 2\n",
      "2 x 2 = 4\n",
      "2 x 3 = 6\n",
      "2 x 4 = 8\n",
      "2 x 5 = 10\n",
      "2 x 6 = 12\n",
      "2 x 7 = 14\n",
      "2 x 8 = 16\n",
      "2 x 9 = 18\n",
      "2 x 10 = 20\n",
      "3 x 1 = 3\n",
      "3 x 2 = 6\n",
      "3 x 3 = 9\n",
      "3 x 4 = 12\n",
      "3 x 5 = 15\n",
      "3 x 6 = 18\n",
      "3 x 7 = 21\n",
      "3 x 8 = 24\n",
      "3 x 9 = 27\n",
      "3 x 10 = 30\n",
      "4 x 1 = 4\n",
      "4 x 2 = 8\n",
      "4 x 3 = 12\n",
      "4 x 4 = 16\n",
      "4 x 5 = 20\n",
      "4 x 6 = 24\n",
      "4 x 7 = 28\n",
      "4 x 8 = 32\n",
      "4 x 9 = 36\n",
      "4 x 10 = 40\n",
      "5 x 1 = 5\n",
      "5 x 2 = 10\n",
      "5 x 3 = 15\n",
      "5 x 4 = 20\n",
      "5 x 5 = 25\n",
      "5 x 6 = 30\n",
      "5 x 7 = 35\n",
      "5 x 8 = 40\n",
      "5 x 9 = 45\n",
      "5 x 10 = 50\n"
     ]
    }
   ],
   "source": [
    " # Write a program to print the multiplication table of numbers from 1 to 5 using a for loop\n",
    "\n",
    "n1,n2,n3,n4,n5= 1,2,3,4,5\n",
    "for i in range(1, 11):\n",
    "   print(n1, 'x', i, '=', n1*i)\n",
    "for i in range(1, 11):\n",
    "   print(n2, 'x', i, '=', n2*i)\n",
    "for i in range(1, 11):\n",
    "    print(n3, 'x', i, '=', n3*i)\n",
    "for i in range(1, 11):\n",
    "    print(n4, 'x', i, '=', n4*i) \n",
    "for i in range(1, 11):\n",
    "    print(n5, 'x', i, '=', n5*i)"
   ]
  },
  {
   "cell_type": "code",
   "execution_count": 17,
   "metadata": {},
   "outputs": [
    {
     "ename": "ValueError",
     "evalue": "invalid literal for int() with base 10: '4 is 24'",
     "output_type": "error",
     "traceback": [
      "\u001b[1;31m---------------------------------------------------------------------------\u001b[0m",
      "\u001b[1;31mValueError\u001b[0m                                Traceback (most recent call last)",
      "Cell \u001b[1;32mIn[17], line 3\u001b[0m\n\u001b[0;32m      1\u001b[0m \u001b[39m#Write a program to find the factorial of a number using a while loop\u001b[39;00m\n\u001b[1;32m----> 3\u001b[0m num \u001b[39m=\u001b[39m \u001b[39mint\u001b[39;49m(\u001b[39minput\u001b[39;49m(\u001b[39m\"\u001b[39;49m\u001b[39menter a number: \u001b[39;49m\u001b[39m\"\u001b[39;49m))\n\u001b[0;32m      4\u001b[0m fac \u001b[39m=\u001b[39m \u001b[39m1\u001b[39m\n\u001b[0;32m      5\u001b[0m i \u001b[39m=\u001b[39m \u001b[39m1\u001b[39m\n",
      "\u001b[1;31mValueError\u001b[0m: invalid literal for int() with base 10: '4 is 24'"
     ]
    }
   ],
   "source": [
    "#Write a program to find the factorial of a number using a while loop\n",
    "\n",
    "num = int(input(\"enter a number: \"))\n",
    "fac = 1\n",
    "i = 1\n",
    "while i <= num:\n",
    "    fac = fac * i\n",
    "    i = i + 1\n",
    "print(\"factorial of \", num, \" is \", fac)\n"
   ]
  },
  {
   "cell_type": "code",
   "execution_count": 18,
   "metadata": {},
   "outputs": [
    {
     "name": "stdout",
     "output_type": "stream",
     "text": [
      "Number of vowels are: 1\n"
     ]
    }
   ],
   "source": [
    "\n",
    "#Write a program to count the number of vowels in a given string using a for loop\n",
    "\n",
    "string=input(\"Enter string:\")\n",
    "vowels=0\n",
    "for i in string:\n",
    "      if(i=='a' or i=='e' or i=='i' or i=='o' or i=='u' or i=='A' or i=='E' or i=='I' or i=='O' or i=='U'):\n",
    "            vowels=vowels+1\n",
    "print(\"Number of vowels are:\", vowels)\n"
   ]
  },
  {
   "cell_type": "code",
   "execution_count": 19,
   "metadata": {},
   "outputs": [
    {
     "name": "stdout",
     "output_type": "stream",
     "text": [
      "minimum-- 6\n",
      "maximun-- 100\n"
     ]
    }
   ],
   "source": [
    "#Write a program to find the largest and smallest elements in an array using a for loop\n",
    "\n",
    "arr = [100, 9, 98, 6, 47, 90, 78]\n",
    "mini = arr[0]\n",
    "maxi = arr[0]\n",
    "\n",
    "for i in range(len(arr)):\n",
    "  if arr[i] < mini: mini = arr[i] \n",
    "  \n",
    "if arr[i] > maxi: maxi = arr[i]\n",
    "\n",
    "print('minimum--',mini)\n",
    "print('maximun--',maxi)"
   ]
  },
  {
   "cell_type": "code",
   "execution_count": null,
   "metadata": {},
   "outputs": [],
   "source": []
  }
 ],
 "metadata": {
  "kernelspec": {
   "display_name": "base",
   "language": "python",
   "name": "python3"
  },
  "language_info": {
   "codemirror_mode": {
    "name": "ipython",
    "version": 3
   },
   "file_extension": ".py",
   "mimetype": "text/x-python",
   "name": "python",
   "nbconvert_exporter": "python",
   "pygments_lexer": "ipython3",
   "version": "3.10.10"
  },
  "orig_nbformat": 4
 },
 "nbformat": 4,
 "nbformat_minor": 2
}
