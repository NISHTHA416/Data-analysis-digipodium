{
 "cells": [
  {
   "cell_type": "code",
   "execution_count": 1,
   "metadata": {},
   "outputs": [
    {
     "name": "stdout",
     "output_type": "stream",
     "text": [
      "nishtha\n"
     ]
    }
   ],
   "source": [
    "#Create a string and print it\n",
    "\n",
    "a= 'nishtha'\n",
    "print(a)"
   ]
  },
  {
   "cell_type": "code",
   "execution_count": 2,
   "metadata": {},
   "outputs": [
    {
     "name": "stdout",
     "output_type": "stream",
     "text": [
      "7\n"
     ]
    }
   ],
   "source": [
    "#Take a string input and print it's length\n",
    "\n",
    "b = 'nishtha'\n",
    "print(len(b))"
   ]
  },
  {
   "cell_type": "code",
   "execution_count": 3,
   "metadata": {},
   "outputs": [
    {
     "name": "stdout",
     "output_type": "stream",
     "text": [
      "great\n"
     ]
    }
   ],
   "source": [
    "#Print the last word of the string Python is great using slices.\n",
    "\n",
    "b = 'Python is great'\n",
    "print(b[-5:])"
   ]
  },
  {
   "cell_type": "code",
   "execution_count": 4,
   "metadata": {},
   "outputs": [
    {
     "name": "stdout",
     "output_type": "stream",
     "text": [
      "python\n",
      "is\n",
      "everywhere\n"
     ]
    }
   ],
   "source": [
    "\n",
    "#Print the each word in different line of string python is everywhere.\n",
    "\n",
    "string = \"python is everywhere\"\n",
    "words = string.split()\n",
    "for word in words:\n",
    "    print(word)"
   ]
  },
  {
   "cell_type": "code",
   "execution_count": 10,
   "metadata": {},
   "outputs": [
    {
     "name": "stdout",
     "output_type": "stream",
     "text": [
      "dlroW olleH\n"
     ]
    }
   ],
   "source": [
    "string = \"Hello World\"[::-1]\n",
    "print(string)"
   ]
  },
  {
   "cell_type": "code",
   "execution_count": 11,
   "metadata": {},
   "outputs": [
    {
     "name": "stdout",
     "output_type": "stream",
     "text": [
      "HOW ARE YOU?\n"
     ]
    }
   ],
   "source": [
    "\n",
    "#Convert the string How are you? in uppercase\n",
    "\n",
    "msg = 'How are you?'\n",
    "print(msg.upper())\n"
   ]
  },
  {
   "cell_type": "code",
   "execution_count": 12,
   "metadata": {},
   "outputs": [
    {
     "name": "stdout",
     "output_type": "stream",
     "text": [
      "how is it going?\n"
     ]
    }
   ],
   "source": [
    "\n",
    "#Convert the string How Is It Going? in lowercase\n",
    "\n",
    "msg = 'How Is It Going?'\n",
    "print(msg.lower())"
   ]
  },
  {
   "cell_type": "code",
   "execution_count": 9,
   "metadata": {},
   "outputs": [
    {
     "name": "stdout",
     "output_type": "stream",
     "text": [
      "['Python', 'is', 'easy', 'to', 'learn']\n",
      "Python is easy to learn\n"
     ]
    }
   ],
   "source": [
    "# Join the following list by spaces( ) and print the result.\n",
    "# words = ['Python', 'is', 'easy', 'to', 'learn']\n",
    "\n",
    "words = ['Python', 'is', 'easy', 'to', 'learn']\n",
    "print(words)\n",
    "words = \" \".join(words)\n",
    "print(words)\n"
   ]
  },
  {
   "cell_type": "code",
   "execution_count": 7,
   "metadata": {},
   "outputs": [
    {
     "name": "stdout",
     "output_type": "stream",
     "text": [
      "multiline string\n",
      "xyz\n",
      "abc\n"
     ]
    }
   ],
   "source": [
    "\n",
    "#Print a multiline string using a single print\n",
    "\n",
    "a = \"\"\"multiline string\n",
    "xyz\n",
    "abc\"\"\"\n",
    "print(a)"
   ]
  },
  {
   "cell_type": "code",
   "execution_count": 6,
   "metadata": {},
   "outputs": [
    {
     "name": "stdout",
     "output_type": "stream",
     "text": [
      "to move to newline '\\n' is used\n"
     ]
    }
   ],
   "source": [
    "#Print this string to move to newline '\\n' is used. (results should look exactly like the provided string)\n",
    "\n",
    "string = r\"to move to newline '\\n' is used\"\n",
    "print(string)\n",
    "#raw string\n"
   ]
  },
  {
   "cell_type": "code",
   "execution_count": 8,
   "metadata": {},
   "outputs": [
    {
     "name": "stdout",
     "output_type": "stream",
     "text": [
      "the variable is 15\n"
     ]
    }
   ],
   "source": [
    "\n",
    "#Print a variable with some text using a single print function, output should look like following.\n",
    "#the variable is 15\n",
    "\n",
    "var = 15\n",
    "print(\"the variable is\", var)\n"
   ]
  },
  {
   "cell_type": "code",
   "execution_count": 5,
   "metadata": {},
   "outputs": [
    {
     "name": "stdout",
     "output_type": "stream",
     "text": [
      "python is great.\n"
     ]
    }
   ],
   "source": [
    "\n",
    "#concatenate the following strings and print the result\n",
    "#s1 = 'python '\n",
    "#s2 = 'is '\n",
    "#s3 = 'great.'\n",
    "\n",
    "s1 = 'python '\n",
    "s2 = 'is '\n",
    "s3 = 'great.'\n",
    "s4= s1+s2+s3\n",
    "print(s4)"
   ]
  },
  {
   "cell_type": "code",
   "execution_count": null,
   "metadata": {},
   "outputs": [],
   "source": [
    "#Print # 20 times without using a loop\n",
    "\n",
    "print(\"#\" * 20)\n"
   ]
  },
  {
   "cell_type": "code",
   "execution_count": null,
   "metadata": {},
   "outputs": [],
   "source": [
    "\n",
    "#Print numbers from 1 to 9, each on a seperate line, followed by a dot, output should look like the following-\n",
    "1.\n",
    "2.\n",
    "3.\n",
    "\n",
    "for num in range(1, 10):\n",
    "    print(num, end=\".\\n\")"
   ]
  },
  {
   "cell_type": "code",
   "execution_count": null,
   "metadata": {},
   "outputs": [],
   "source": [
    "#Ask user to input a sentence and print each word on a different line\n",
    "\n",
    "sentence = input(\"Enter a sentence: \")\n",
    "words = sentence.split()\n",
    "for word in words:\n",
    "    print(word)\n"
   ]
  },
  {
   "cell_type": "code",
   "execution_count": null,
   "metadata": {},
   "outputs": [],
   "source": [
    "\n",
    "#Ask user to input a string and check if the string ends with '?'\n",
    "\n",
    "string = input(\"Enter a string: \")\n",
    "if string.endswith('?'):\n",
    "    print(\"haa karri hei\")\n",
    "else:\n",
    "    print(\"nahi karri hei\")"
   ]
  },
  {
   "cell_type": "code",
   "execution_count": null,
   "metadata": {},
   "outputs": [],
   "source": [
    "#Ask user to input a string and print how many times e appeared in the string\n",
    "\n",
    "string = input(\"Enter a string: \")\n",
    "count = string.count('e')\n",
    "print(string, \"mei \",count, \"baar aya hei\")\n"
   ]
  },
  {
   "cell_type": "code",
   "execution_count": 21,
   "metadata": {},
   "outputs": [
    {
     "name": "stdout",
     "output_type": "stream",
     "text": [
      "33 ye number hi to hei ye kha se number dikhra hei\n"
     ]
    }
   ],
   "source": [
    "\n",
    "#Check if the user input is a number\n",
    "\n",
    "user_input = input(\"Enter an input: \")\n",
    "if user_input.isdigit():\n",
    "    print(user_input, \"ye number hi to hei\")\n",
    "else:\n",
    "    print(user_input, \"ye kha se number dikhra hei\")\n"
   ]
  },
  {
   "cell_type": "code",
   "execution_count": 19,
   "metadata": {},
   "outputs": [
    {
     "name": "stdout",
     "output_type": "stream",
     "text": [
      "without strip--->>>     this is not a good string           \n",
      "with strip--->>>  this is not a good string\n"
     ]
    }
   ],
   "source": [
    "\n",
    "#Remove the extra spaces in beginning and in the end of the following string-\n",
    "#text = '   this is not a good string           '\n",
    "\n",
    "text = '   this is not a good string           '\n",
    "print('without strip--->>> ',text)\n",
    "print('with strip--->>> ',text.strip())"
   ]
  },
  {
   "cell_type": "code",
   "execution_count": 18,
   "metadata": {},
   "outputs": [
    {
     "name": "stdout",
     "output_type": "stream",
     "text": [
      "Not found\n"
     ]
    }
   ],
   "source": [
    "#Ask user to input string, print found if any of the character is upper case.\n",
    "\n",
    "string = input(\"Enter a string: \")\n",
    "if any(char.isupper() for char in string):\n",
    "    print(\"Found\")\n",
    "else:\n",
    "    print(\"Not found\")\n"
   ]
  },
  {
   "cell_type": "code",
   "execution_count": 17,
   "metadata": {},
   "outputs": [
    {
     "name": "stdout",
     "output_type": "stream",
     "text": [
      "['Joe', 'David', 'Mark', 'Tom', 'Chris', 'Robert']\n"
     ]
    },
    {
     "data": {
      "text/plain": [
       "['Joe', 'David', 'Mark', 'Tom', 'Chris', 'Robert']"
      ]
     },
     "execution_count": 17,
     "metadata": {},
     "output_type": "execute_result"
    }
   ],
   "source": [
    "\n",
    "#Extract names from the following string and store them in a list.\n",
    "#names = 'Joe, David, Mark, Tom, Chris, Robert'\n",
    "\n",
    "names = 'Joe, David, Mark, Tom, Chris, Robert'\n",
    "name_list = names.split(', ')\n",
    "print(name_list)\n",
    "['Joe', 'David', 'Mark', 'Tom', 'Chris', 'Robert']\n"
   ]
  },
  {
   "cell_type": "code",
   "execution_count": 16,
   "metadata": {},
   "outputs": [
    {
     "name": "stdout",
     "output_type": "stream",
     "text": [
      "thisaye isaye someaye textaye\n"
     ]
    }
   ],
   "source": [
    "\n",
    "#In the following string, add aye in the end of every word and print the results.\n",
    "#text = 'this is some text'\n",
    "\n",
    "text = 'this is some text'\n",
    "words = text.split()\n",
    "modified_words = [word + \"aye\" for word in words]\n",
    "result = ' '.join(modified_words)\n",
    "print(result)\n"
   ]
  },
  {
   "cell_type": "code",
   "execution_count": 13,
   "metadata": {},
   "outputs": [
    {
     "name": "stdout",
     "output_type": "stream",
     "text": [
      "haaan 'fyi' hei.\n"
     ]
    }
   ],
   "source": [
    "#ask user to enter a string and check if the string contains fyi\n",
    "\n",
    "string = input(\"Enter a string: \")\n",
    "if \"fyi\" in string:\n",
    "    print(\"haaan 'fyi' hei.\")\n",
    "else:\n",
    "    print(\"nahi hei'fyi'.\")\n",
    "\n",
    "\n"
   ]
  },
  {
   "cell_type": "code",
   "execution_count": 14,
   "metadata": {},
   "outputs": [
    {
     "name": "stdout",
     "output_type": "stream",
     "text": [
      "python\n"
     ]
    }
   ],
   "source": [
    "\n",
    "#Remove all the special characters and numbers from the following string\n",
    "#text = '%p34@y!*-*!t68h#&on404'\n",
    "\n",
    "text = '%p34@y!*-*!t68h#&on404'\n",
    "clean_text = ''.join([char for char in text if char.isalpha()])\n",
    "print(clean_text)\n"
   ]
  },
  {
   "cell_type": "code",
   "execution_count": 15,
   "metadata": {},
   "outputs": [
    {
     "name": "stdout",
     "output_type": "stream",
     "text": [
      "Average word length: 4.636363636363637\n"
     ]
    }
   ],
   "source": [
    "\n",
    "#calculate the average word length of the following paragraph.\n",
    "#this is a paragraph which is written just for the purpose of providing content to let the average word length be calculated\n",
    "\n",
    "paragraph = \"this is a paragraph which is written just for the purpose of providing content to let the average word length be calculated\"\n",
    "words = paragraph.split()\n",
    "word_count = len(words)\n",
    "total_length = sum(len(word) for word in words)\n",
    "average_length = total_length / word_count\n",
    "print(\"Average word length:\", average_length)\n"
   ]
  }
 ],
 "metadata": {
  "kernelspec": {
   "display_name": "base",
   "language": "python",
   "name": "python3"
  },
  "language_info": {
   "codemirror_mode": {
    "name": "ipython",
    "version": 3
   },
   "file_extension": ".py",
   "mimetype": "text/x-python",
   "name": "python",
   "nbconvert_exporter": "python",
   "pygments_lexer": "ipython3",
   "version": "3.10.10"
  },
  "orig_nbformat": 4
 },
 "nbformat": 4,
 "nbformat_minor": 2
}
