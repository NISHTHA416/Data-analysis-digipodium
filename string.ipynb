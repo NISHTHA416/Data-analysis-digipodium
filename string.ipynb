{
 "cells": [
  {
   "cell_type": "code",
   "execution_count": 29,
   "metadata": {},
   "outputs": [
    {
     "name": "stdout",
     "output_type": "stream",
     "text": [
      "This is a string\n",
      " This is another string\n",
      " this is ,multiple string\n",
      "also string \n",
      "more\n",
      "b' this is a byte srring'\n",
      " this is a \n",
      "unicode string\n",
      " This is a \\nraw string\n"
     ]
    }
   ],
   "source": [
    "#strings\n",
    "a = 'This is a string'#single quote\n",
    "b = \" This is another string\"#double quote\n",
    "c = ''' this is ,multiple string\n",
    "also string \n",
    "more'''\n",
    "d = b' this is a byte string'\n",
    "e = u' this is a \\nunicode string'\n",
    "f = r' This is a \\nraw string'\n",
    "print(a)\n",
    "print(b)\n",
    "print(c)\n",
    "print(d)\n",
    "print(e)\n",
    "print(f)"
   ]
  },
  {
   "cell_type": "code",
   "execution_count": 5,
   "metadata": {},
   "outputs": [
    {
     "name": "stdout",
     "output_type": "stream",
     "text": [
      "str= digipodium\n",
      "str[0]= d\n",
      "str[0]= i\n",
      "str[0]= m\n",
      "str[0]= u\n"
     ]
    }
   ],
   "source": [
    "#Accessing string characters in python\n",
    "str='digipodium'\n",
    "print('str=', str)\n",
    "\n",
    "#frist character\n",
    "print('str[0]=',str[0])\n",
    "\n",
    "#Second character\n",
    "print('str[0]=',str[1])\n",
    "\n",
    "#last character\n",
    "print('str[0]=',str[-1])\n",
    "\n",
    "#second character\n",
    "print('str[0]=',str[-2])"
   ]
  },
  {
   "cell_type": "code",
   "execution_count": 6,
   "metadata": {},
   "outputs": [
    {
     "name": "stdout",
     "output_type": "stream",
     "text": [
      "pod\n"
     ]
    }
   ],
   "source": [
    "#getting a slice\n",
    "s='digipodium'\n",
    "slice1 = s[4:7]\n",
    "print(slice1) "
   ]
  },
  {
   "cell_type": "code",
   "execution_count": 7,
   "metadata": {},
   "outputs": [
    {
     "name": "stdout",
     "output_type": "stream",
     "text": [
      "10\n"
     ]
    }
   ],
   "source": [
    "x =10\n",
    "\n",
    "print(x)"
   ]
  },
  {
   "cell_type": "code",
   "execution_count": 8,
   "metadata": {},
   "outputs": [
    {
     "name": "stdout",
     "output_type": "stream",
     "text": [
      "vijay deenanath chauhan\n"
     ]
    }
   ],
   "source": [
    "name ='vijay deenanath chauhan'\n",
    "print (name)"
   ]
  },
  {
   "cell_type": "code",
   "execution_count": 9,
   "metadata": {},
   "outputs": [
    {
     "data": {
      "text/plain": [
       "'vijay'"
      ]
     },
     "execution_count": 9,
     "metadata": {},
     "output_type": "execute_result"
    }
   ],
   "source": [
    "name [:5]#first 5 character"
   ]
  },
  {
   "cell_type": "code",
   "execution_count": 10,
   "metadata": {},
   "outputs": [
    {
     "data": {
      "text/plain": [
       "23"
      ]
     },
     "execution_count": 10,
     "metadata": {},
     "output_type": "execute_result"
    }
   ],
   "source": [
    "len(name)#length of string"
   ]
  },
  {
   "cell_type": "code",
   "execution_count": 11,
   "metadata": {},
   "outputs": [
    {
     "data": {
      "text/plain": [
       "'chauhan'"
      ]
     },
     "execution_count": 11,
     "metadata": {},
     "output_type": "execute_result"
    }
   ],
   "source": [
    "name[-7: len (name)] #last 7 character"
   ]
  },
  {
   "cell_type": "code",
   "execution_count": 12,
   "metadata": {},
   "outputs": [],
   "source": [
    "fname = name[:5]\n",
    "lname = name[-7:]"
   ]
  },
  {
   "cell_type": "code",
   "execution_count": 13,
   "metadata": {},
   "outputs": [
    {
     "data": {
      "text/plain": [
       "'vjydeaahcahn'"
      ]
     },
     "execution_count": 13,
     "metadata": {},
     "output_type": "execute_result"
    }
   ],
   "source": [
    "name[::2]#every second character"
   ]
  },
  {
   "cell_type": "code",
   "execution_count": 14,
   "metadata": {},
   "outputs": [
    {
     "data": {
      "text/plain": [
       "'nahuahc htananeed yajiv'"
      ]
     },
     "execution_count": 14,
     "metadata": {},
     "output_type": "execute_result"
    }
   ],
   "source": [
    "name[::-1]# reverse the string"
   ]
  },
  {
   "cell_type": "code",
   "execution_count": 15,
   "metadata": {},
   "outputs": [],
   "source": [
    "x= input('Enter a number:')\n",
    "if x.isnumeric():\n",
    "    x= int(x)\n",
    "    print(x)\n",
    "else:\n",
    "    print('Invalid input')"
   ]
  },
  {
   "cell_type": "code",
   "execution_count": null,
   "metadata": {},
   "outputs": [
    {
     "name": "stdout",
     "output_type": "stream",
     "text": [
      "hello vijay\n"
     ]
    }
   ],
   "source": [
    "uname =input('enter your name:')\n",
    "if uname.isalnum():\n",
    "    print('hello',uname)\n",
    "else:\n",
    "    print('Invalid input')"
   ]
  },
  {
   "cell_type": "code",
   "execution_count": null,
   "metadata": {},
   "outputs": [
    {
     "name": "stdout",
     "output_type": "stream",
     "text": [
      "not so special\n"
     ]
    }
   ],
   "source": [
    "uname = input('enter your name:')\n",
    "if not uname.isalnum():\n",
    "    print('must be some special charecter')\n",
    "else:\n",
    "    print('not so special')"
   ]
  },
  {
   "cell_type": "code",
   "execution_count": null,
   "metadata": {},
   "outputs": [
    {
     "name": "stdout",
     "output_type": "stream",
     "text": [
      " welcome Mr. Anand, Mr.vijay,Mr.Ravi\n",
      "you are not allow Er.Rajesh\n",
      " welcome Mr.Ramesh\n"
     ]
    }
   ],
   "source": [
    "name =['Mr. Anand, Mr.vijay,''Mr.Ravi','Er.Rajesh','Mr.Ramesh']\n",
    "for name in name:\n",
    "    if name. startswith('Mr.') or name.startswith('Mr.'):\n",
    "        print(f' welcome {name}')\n",
    "    else:\n",
    "        print(f'you are not allow {name}')\n"
   ]
  },
  {
   "cell_type": "code",
   "execution_count": 1,
   "metadata": {},
   "outputs": [
    {
     "name": "stdout",
     "output_type": "stream",
     "text": [
      "abc.txt   (text file)\n",
      "pqr.py    (python file)\n",
      "mno.py    (python file)\n",
      "def.txt   (text file)\n",
      "def.txt    unknown fie type\n"
     ]
    }
   ],
   "source": [
    "files =['abc.txt',' xyz.doc','pqr.py','mno.py','def.txt']\n",
    "for item in files :\n",
    " if item.endswith('.txt'):\n",
    "  print(f'{item:10}(text file)')\n",
    " elif item.endswith('.py'):\n",
    "  print(f'{item :10}(python file)')\n",
    "else:\n",
    " print(f'{item:10} unknown fie type')"
   ]
  },
  {
   "cell_type": "code",
   "execution_count": 2,
   "metadata": {},
   "outputs": [
    {
     "name": "stdout",
     "output_type": "stream",
     "text": [
      "JOOURNEY BEFORE DESTINATION\n",
      "joourney before destination\n",
      "Joourney Before Destination\n",
      "Joourney before destination\n",
      "jOOURNEY BEFORE dESTINATION\n",
      "joourney before destination\n"
     ]
    }
   ],
   "source": [
    "name = 'Joourney before Destination'\n",
    "print(name .upper())\n",
    "print(name .lower())\n",
    "print(name .title())\n",
    "print(name .capitalize())\n",
    "print(name .swapcase())\n",
    "print(name .casefold())"
   ]
  },
  {
   "cell_type": "code",
   "execution_count": 3,
   "metadata": {},
   "outputs": [
    {
     "name": "stdout",
     "output_type": "stream",
     "text": [
      "joourney before destination\n"
     ]
    }
   ],
   "source": [
    "name = name.lower()\n",
    "print(name)"
   ]
  },
  {
   "cell_type": "code",
   "execution_count": 5,
   "metadata": {},
   "outputs": [
    {
     "name": "stdout",
     "output_type": "stream",
     "text": [
      "3\n",
      "4\n"
     ]
    }
   ],
   "source": [
    "s ='this is an example string,  thIs is a simple string'\n",
    "print(s.count('is'))\n",
    "print(s.count('t'))\n"
   ]
  },
  {
   "cell_type": "code",
   "execution_count": 6,
   "metadata": {},
   "outputs": [
    {
     "name": "stdout",
     "output_type": "stream",
     "text": [
      "12\n"
     ]
    }
   ],
   "source": [
    "# total vowels\n",
    "tv = s.count('a') + s.count('e')+ s.count('i')+ s.count('o')+ s.count('u')\n",
    "print(tv)"
   ]
  },
  {
   "cell_type": "code",
   "execution_count": 9,
   "metadata": {},
   "outputs": [
    {
     "name": "stdout",
     "output_type": "stream",
     "text": [
      "11\n",
      "2\n",
      "5\n",
      "31\n"
     ]
    }
   ],
   "source": [
    "print(s. find('example'))\n",
    "print(s. find('is'))\n",
    "print(s. find('is',3)) # start searching from index\n",
    "print(s. find('is',6))"
   ]
  },
  {
   "cell_type": "code",
   "execution_count": 18,
   "metadata": {},
   "outputs": [
    {
     "data": {
      "text/plain": [
       "'this was an example string,thIs was a simple string'"
      ]
     },
     "execution_count": 18,
     "metadata": {},
     "output_type": "execute_result"
    }
   ],
   "source": [
    "s. replace(' is ',' was ')# replace all occurences"
   ]
  },
  {
   "cell_type": "code",
   "execution_count": 19,
   "metadata": {},
   "outputs": [
    {
     "data": {
      "text/plain": [
       "'this is an example ,thIs is a simple '"
      ]
     },
     "execution_count": 19,
     "metadata": {},
     "output_type": "execute_result"
    }
   ],
   "source": [
    "s.replace('string','') # remove string from s"
   ]
  },
  {
   "cell_type": "code",
   "execution_count": 20,
   "metadata": {},
   "outputs": [
    {
     "data": {
      "text/plain": [
       "'this was an example string,thIs was a simple string'"
      ]
     },
     "execution_count": 20,
     "metadata": {},
     "output_type": "execute_result"
    }
   ],
   "source": [
    "s.replace(' is ',' was ') #replace only the word 'is'"
   ]
  },
  {
   "cell_type": "code",
   "execution_count": 22,
   "metadata": {},
   "outputs": [
    {
     "name": "stdout",
     "output_type": "stream",
     "text": [
      "['this', 'is', 'an', 'example', 'string,thIs', 'is', 'a', 'simple', 'string']\n"
     ]
    }
   ],
   "source": [
    "words = s.split()\n",
    "print(words)"
   ]
  },
  {
   "cell_type": "code",
   "execution_count": 23,
   "metadata": {},
   "outputs": [
    {
     "data": {
      "text/plain": [
       "['this is an example string', 'thIs is a simple string']"
      ]
     },
     "execution_count": 23,
     "metadata": {},
     "output_type": "execute_result"
    }
   ],
   "source": [
    "s.split(',')"
   ]
  },
  {
   "cell_type": "code",
   "execution_count": 24,
   "metadata": {},
   "outputs": [
    {
     "data": {
      "text/plain": [
       "'one two three four five'"
      ]
     },
     "execution_count": 24,
     "metadata": {},
     "output_type": "execute_result"
    }
   ],
   "source": [
    "words = ['one','two','three','four','five']\n",
    "\n",
    "\" \" .join(words)"
   ]
  },
  {
   "cell_type": "code",
   "execution_count": 25,
   "metadata": {},
   "outputs": [
    {
     "data": {
      "text/plain": [
       "'one---> two---> three---> four---> five'"
      ]
     },
     "execution_count": 25,
     "metadata": {},
     "output_type": "execute_result"
    }
   ],
   "source": [
    "words = ['one','two','three','four','five']\n",
    "\n",
    "\"---> \" .join(words)"
   ]
  },
  {
   "cell_type": "code",
   "execution_count": 30,
   "metadata": {},
   "outputs": [
    {
     "name": "stdout",
     "output_type": "stream",
     "text": [
      "  Nishtha  \n",
      "Nishtha\n"
     ]
    }
   ],
   "source": [
    "x ='  Nishtha  '\n",
    "print(x)\n",
    "print(x.strip())"
   ]
  }
 ],
 "metadata": {
  "kernelspec": {
   "display_name": "base",
   "language": "python",
   "name": "python3"
  },
  "language_info": {
   "codemirror_mode": {
    "name": "ipython",
    "version": 3
   },
   "file_extension": ".py",
   "mimetype": "text/x-python",
   "name": "python",
   "nbconvert_exporter": "python",
   "pygments_lexer": "ipython3",
   "version": "3.10.10"
  },
  "orig_nbformat": 4
 },
 "nbformat": 4,
 "nbformat_minor": 2
}
